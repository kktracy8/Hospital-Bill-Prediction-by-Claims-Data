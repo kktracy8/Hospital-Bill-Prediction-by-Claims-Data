{
 "cells": [
  {
   "cell_type": "code",
   "execution_count": 98,
   "metadata": {},
   "outputs": [],
   "source": [
    "import pandas as pd\n",
    "import numpy as np\n",
    "import seaborn as sns\n",
    "import matplotlib.pyplot as plt\n",
    "from sklearn.model_selection import train_test_split\n",
    "from sklearn.preprocessing import OneHotEncoder, LabelEncoder\n",
    "from sklearn.ensemble import RandomForestClassifier\n",
    "from sklearn.metrics import classification_report, confusion_matrix\n",
    "from sklearn.linear_model import LogisticRegression\n",
    "from sklearn.decomposition import PCA\n",
    "from itertools import combinations\n",
    "from sklearn.preprocessing import StandardScaler"
   ]
  },
  {
   "cell_type": "markdown",
   "metadata": {},
   "source": [
    "#### Data Analysis"
   ]
  },
  {
   "cell_type": "code",
   "execution_count": 99,
   "metadata": {},
   "outputs": [
    {
     "data": {
      "text/html": [
       "<div>\n",
       "<style scoped>\n",
       "    .dataframe tbody tr th:only-of-type {\n",
       "        vertical-align: middle;\n",
       "    }\n",
       "\n",
       "    .dataframe tbody tr th {\n",
       "        vertical-align: top;\n",
       "    }\n",
       "\n",
       "    .dataframe thead th {\n",
       "        text-align: right;\n",
       "    }\n",
       "</style>\n",
       "<table border=\"1\" class=\"dataframe\">\n",
       "  <thead>\n",
       "    <tr style=\"text-align: right;\">\n",
       "      <th></th>\n",
       "      <th>Name</th>\n",
       "      <th>Age</th>\n",
       "      <th>Gender</th>\n",
       "      <th>Blood Type</th>\n",
       "      <th>Medical Condition</th>\n",
       "      <th>Date of Admission</th>\n",
       "      <th>Doctor</th>\n",
       "      <th>Hospital</th>\n",
       "      <th>Insurance Provider</th>\n",
       "      <th>Billing Amount</th>\n",
       "      <th>Room Number</th>\n",
       "      <th>Admission Type</th>\n",
       "      <th>Discharge Date</th>\n",
       "      <th>Medication</th>\n",
       "      <th>Test Results</th>\n",
       "    </tr>\n",
       "  </thead>\n",
       "  <tbody>\n",
       "    <tr>\n",
       "      <th>0</th>\n",
       "      <td>Bobby JacksOn</td>\n",
       "      <td>30</td>\n",
       "      <td>Male</td>\n",
       "      <td>B-</td>\n",
       "      <td>Cancer</td>\n",
       "      <td>2024-01-31</td>\n",
       "      <td>Matthew Smith</td>\n",
       "      <td>Sons and Miller</td>\n",
       "      <td>Blue Cross</td>\n",
       "      <td>18856.281306</td>\n",
       "      <td>328</td>\n",
       "      <td>Urgent</td>\n",
       "      <td>2024-02-02</td>\n",
       "      <td>Paracetamol</td>\n",
       "      <td>Normal</td>\n",
       "    </tr>\n",
       "    <tr>\n",
       "      <th>1</th>\n",
       "      <td>LesLie TErRy</td>\n",
       "      <td>62</td>\n",
       "      <td>Male</td>\n",
       "      <td>A+</td>\n",
       "      <td>Obesity</td>\n",
       "      <td>2019-08-20</td>\n",
       "      <td>Samantha Davies</td>\n",
       "      <td>Kim Inc</td>\n",
       "      <td>Medicare</td>\n",
       "      <td>33643.327287</td>\n",
       "      <td>265</td>\n",
       "      <td>Emergency</td>\n",
       "      <td>2019-08-26</td>\n",
       "      <td>Ibuprofen</td>\n",
       "      <td>Inconclusive</td>\n",
       "    </tr>\n",
       "    <tr>\n",
       "      <th>2</th>\n",
       "      <td>DaNnY sMitH</td>\n",
       "      <td>76</td>\n",
       "      <td>Female</td>\n",
       "      <td>A-</td>\n",
       "      <td>Obesity</td>\n",
       "      <td>2022-09-22</td>\n",
       "      <td>Tiffany Mitchell</td>\n",
       "      <td>Cook PLC</td>\n",
       "      <td>Aetna</td>\n",
       "      <td>27955.096079</td>\n",
       "      <td>205</td>\n",
       "      <td>Emergency</td>\n",
       "      <td>2022-10-07</td>\n",
       "      <td>Aspirin</td>\n",
       "      <td>Normal</td>\n",
       "    </tr>\n",
       "    <tr>\n",
       "      <th>3</th>\n",
       "      <td>andrEw waTtS</td>\n",
       "      <td>28</td>\n",
       "      <td>Female</td>\n",
       "      <td>O+</td>\n",
       "      <td>Diabetes</td>\n",
       "      <td>2020-11-18</td>\n",
       "      <td>Kevin Wells</td>\n",
       "      <td>Hernandez Rogers and Vang,</td>\n",
       "      <td>Medicare</td>\n",
       "      <td>37909.782410</td>\n",
       "      <td>450</td>\n",
       "      <td>Elective</td>\n",
       "      <td>2020-12-18</td>\n",
       "      <td>Ibuprofen</td>\n",
       "      <td>Abnormal</td>\n",
       "    </tr>\n",
       "    <tr>\n",
       "      <th>4</th>\n",
       "      <td>adrIENNE bEll</td>\n",
       "      <td>43</td>\n",
       "      <td>Female</td>\n",
       "      <td>AB+</td>\n",
       "      <td>Cancer</td>\n",
       "      <td>2022-09-19</td>\n",
       "      <td>Kathleen Hanna</td>\n",
       "      <td>White-White</td>\n",
       "      <td>Aetna</td>\n",
       "      <td>14238.317814</td>\n",
       "      <td>458</td>\n",
       "      <td>Urgent</td>\n",
       "      <td>2022-10-09</td>\n",
       "      <td>Penicillin</td>\n",
       "      <td>Abnormal</td>\n",
       "    </tr>\n",
       "  </tbody>\n",
       "</table>\n",
       "</div>"
      ],
      "text/plain": [
       "            Name  Age  Gender Blood Type Medical Condition Date of Admission  \\\n",
       "0  Bobby JacksOn   30    Male         B-            Cancer        2024-01-31   \n",
       "1   LesLie TErRy   62    Male         A+           Obesity        2019-08-20   \n",
       "2    DaNnY sMitH   76  Female         A-           Obesity        2022-09-22   \n",
       "3   andrEw waTtS   28  Female         O+          Diabetes        2020-11-18   \n",
       "4  adrIENNE bEll   43  Female        AB+            Cancer        2022-09-19   \n",
       "\n",
       "             Doctor                    Hospital Insurance Provider  \\\n",
       "0     Matthew Smith             Sons and Miller         Blue Cross   \n",
       "1   Samantha Davies                     Kim Inc           Medicare   \n",
       "2  Tiffany Mitchell                    Cook PLC              Aetna   \n",
       "3       Kevin Wells  Hernandez Rogers and Vang,           Medicare   \n",
       "4    Kathleen Hanna                 White-White              Aetna   \n",
       "\n",
       "   Billing Amount  Room Number Admission Type Discharge Date   Medication  \\\n",
       "0    18856.281306          328         Urgent     2024-02-02  Paracetamol   \n",
       "1    33643.327287          265      Emergency     2019-08-26    Ibuprofen   \n",
       "2    27955.096079          205      Emergency     2022-10-07      Aspirin   \n",
       "3    37909.782410          450       Elective     2020-12-18    Ibuprofen   \n",
       "4    14238.317814          458         Urgent     2022-10-09   Penicillin   \n",
       "\n",
       "   Test Results  \n",
       "0        Normal  \n",
       "1  Inconclusive  \n",
       "2        Normal  \n",
       "3      Abnormal  \n",
       "4      Abnormal  "
      ]
     },
     "execution_count": 99,
     "metadata": {},
     "output_type": "execute_result"
    }
   ],
   "source": [
    "from datetime import datetime\n",
    "health_df = pd.read_csv('healthcare_dataset.csv')\n",
    "health_df.head()"
   ]
  },
  {
   "cell_type": "code",
   "execution_count": 100,
   "metadata": {},
   "outputs": [],
   "source": [
    "from sklearn.ensemble import RandomForestClassifier\n",
    "from sklearn.preprocessing import LabelEncoder\n",
    "from sklearn.model_selection import train_test_split\n",
    "from sklearn.metrics import accuracy_score\n",
    "from sklearn.preprocessing import OneHotEncoder\n",
    "from scipy.stats import chi2_contingency\n",
    "from itertools import product\n",
    "import scipy.stats as ss\n",
    "\n",
    "# Dropping unnecessary columns for prediction (e.g., Name, Doctor, Date of Admission, etc.)\n",
    "health_df.drop_duplicates()\n",
    "health_df['Discharge Date'] = pd.to_datetime(health_df['Discharge Date'])\n",
    "health_df['Date of Admission'] = pd.to_datetime(health_df['Date of Admission'])\n",
    "health_df['Inpatient Days']= (health_df['Discharge Date'] - health_df['Date of Admission']).dt.days+1\n",
    "features = health_df.drop(columns=['Name', 'Doctor', 'Date of Admission', 'Discharge Date'])\n",
    "\n",
    "label_encoded_columns = ['Hospital', 'Insurance Provider']\n",
    "label_encoder = LabelEncoder()\n",
    "\n",
    "for col in label_encoded_columns:\n",
    "    features[col] = label_encoder.fit_transform(features[col])\n",
    "\n",
    "\n",
    "ohe_columns = ['Gender','Blood Type', 'Medical Condition', 'Admission Type', 'Medication', 'Test Results']\n",
    "ohe = OneHotEncoder()\n",
    "\n",
    "array_hot_encoded = ohe.fit_transform(features[ohe_columns])\n",
    "encoded_df = pd.DataFrame(array_hot_encoded.toarray(), columns=ohe.get_feature_names_out(['Gender','Blood Type', 'Medical Condition', 'Admission Type', 'Medication', 'Test Results']))\n",
    "df = features.join(encoded_df)\n",
    "\n",
    "df = df[(df['Billing Amount'] > 0) & (df['Inpatient Days'] > 0)]\n",
    "df[\"Log Per Day Amount\"] = np.log(df[\"Billing Amount\"]/df[\"Inpatient Days\"])\n",
    "df.drop(['Billing Amount','Gender','Blood Type', 'Medical Condition', 'Admission Type', 'Medication', 'Test Results'], axis=1, inplace=True)\n",
    "scaler = StandardScaler()\n",
    "\n",
    "#df['Age'] = scaler.fit_transform(df[['Age']])\n",
    "#df['Inpatient Days'] = scaler.fit_transform(df[['Inpatient Days']])"
   ]
  },
  {
   "cell_type": "markdown",
   "metadata": {},
   "source": [
    "Log Per Day Amount:"
   ]
  },
  {
   "cell_type": "code",
   "execution_count": 101,
   "metadata": {},
   "outputs": [
    {
     "name": "stdout",
     "output_type": "stream",
     "text": [
      "                                Log Per Day Amount\n",
      "Age                                       0.006874\n",
      "Inpatient Days                            0.644073\n",
      "Hospital                                  0.100389\n",
      "Medical Condition_Arthritis               0.020283\n",
      "Medical Condition_Asthma                  0.023231\n",
      "Medical Condition_Cancer                  0.021589\n",
      "Medical Condition_Diabetes                0.019838\n",
      "Medical Condition_Hypertension            0.019426\n",
      "Medical Condition_Obesity                 0.018568\n",
      "Room Number                               0.089002\n",
      "Gender_Male                               0.036687\n",
      "Gender_Female                             0.036694\n",
      "Blood Type_A+                             0.016599\n",
      "Blood Type_A-                             0.015285\n",
      "Blood Type_AB+                            0.014758\n",
      "Blood Type_AB-                            0.014403\n",
      "Blood Type_B+                             0.015566\n",
      "Blood Type_B-                             0.018255\n",
      "Blood Type_O+                             0.016928\n",
      "Blood Type_O-                             0.016536\n",
      "Admission Type_Elective                   0.029761\n",
      "Admission Type_Emergency                  0.032511\n",
      "Admission Type_Urgent                     0.034001\n",
      "Medication_Aspirin                        0.019970\n",
      "Medication_Ibuprofen                      0.023896\n",
      "Medication_Lipitor                        0.019193\n",
      "Medication_Paracetamol                    0.022952\n",
      "Medication_Penicillin                     0.019999\n",
      "Test Results_Abnormal                     0.029911\n",
      "Test Results_Inconclusive                 0.027270\n",
      "Test Results_Normal                       0.031399\n"
     ]
    }
   ],
   "source": [
    "from sklearn.feature_selection import mutual_info_regression\n",
    "indep = ['Age', 'Inpatient Days', 'Hospital', 'Medical Condition_Arthritis', 'Medical Condition_Asthma',\n",
    "       'Medical Condition_Cancer', 'Medical Condition_Diabetes',\n",
    "       'Medical Condition_Hypertension', 'Medical Condition_Obesity', 'Room Number', 'Gender_Male','Gender_Female',\n",
    "       'Blood Type_A+', 'Blood Type_A-', 'Blood Type_AB+', 'Blood Type_AB-',\n",
    "       'Blood Type_B+', 'Blood Type_B-', 'Blood Type_O+', 'Blood Type_O-',\n",
    "       'Admission Type_Elective', 'Admission Type_Emergency',\n",
    "       'Admission Type_Urgent', 'Medication_Aspirin', 'Medication_Ibuprofen',\n",
    "       'Medication_Lipitor', 'Medication_Paracetamol', 'Medication_Penicillin',\n",
    "       'Test Results_Abnormal', 'Test Results_Inconclusive',\n",
    "       'Test Results_Normal']\n",
    "\n",
    "mutual_info_matrix = np.zeros((len(indep)))\n",
    "#df = df.drop['Billing Amount']\n",
    "#df = df.drop['Log Per Day Amount']\n",
    "\n",
    "# Calculate mutual information for each independent-dependent variable pair\n",
    "for i, var1 in enumerate(indep):\n",
    "    X = df[[var1]]\n",
    "    y = df['Log Per Day Amount']\n",
    "    mutual_info = mutual_info_regression(X, y)\n",
    "    mutual_info_matrix[i] = mutual_info[0]  # Store the mutual info scalar\n",
    "\n",
    "# Convert the matrix to a DataFrame for easier viewing\n",
    "mutual_info_df = pd.DataFrame(mutual_info_matrix, index=indep, columns=['Log Per Day Amount'])\n",
    "\n",
    "# Display the mutual information DataFrame\n",
    "print(mutual_info_df)"
   ]
  },
  {
   "cell_type": "code",
   "execution_count": 102,
   "metadata": {},
   "outputs": [
    {
     "name": "stdout",
     "output_type": "stream",
     "text": [
      "Log Per Day Amount  Inpatient Days                    0.644073\n",
      "                    Hospital                          0.100389\n",
      "                    Room Number                       0.089002\n",
      "                    Gender_Female                     0.036694\n",
      "                    Gender_Male                       0.036687\n",
      "                    Admission Type_Urgent             0.034001\n",
      "                    Admission Type_Emergency          0.032511\n",
      "                    Test Results_Normal               0.031399\n",
      "                    Test Results_Abnormal             0.029911\n",
      "                    Admission Type_Elective           0.029761\n",
      "                    Test Results_Inconclusive         0.027270\n",
      "                    Medication_Ibuprofen              0.023896\n",
      "                    Medical Condition_Asthma          0.023231\n",
      "                    Medication_Paracetamol            0.022952\n",
      "                    Medical Condition_Cancer          0.021589\n",
      "                    Medical Condition_Arthritis       0.020283\n",
      "                    Medication_Penicillin             0.019999\n",
      "                    Medication_Aspirin                0.019970\n",
      "                    Medical Condition_Diabetes        0.019838\n",
      "                    Medical Condition_Hypertension    0.019426\n",
      "                    Medication_Lipitor                0.019193\n",
      "                    Medical Condition_Obesity         0.018568\n",
      "                    Blood Type_B-                     0.018255\n",
      "                    Blood Type_O+                     0.016928\n",
      "                    Blood Type_A+                     0.016599\n",
      "                    Blood Type_O-                     0.016536\n",
      "                    Blood Type_B+                     0.015566\n",
      "                    Blood Type_A-                     0.015285\n",
      "                    Blood Type_AB+                    0.014758\n",
      "                    Blood Type_AB-                    0.014403\n",
      "                    Age                               0.006874\n",
      "dtype: float64\n"
     ]
    }
   ],
   "source": [
    "top_pairs = mutual_info_df.unstack().sort_values(ascending=False).head(32)\n",
    "print(top_pairs)"
   ]
  },
  {
   "cell_type": "code",
   "execution_count": 103,
   "metadata": {},
   "outputs": [],
   "source": [
    "y = df['Log Per Day Amount']\n",
    "a =df.drop(columns = ['Log Per Day Amount'])"
   ]
  },
  {
   "cell_type": "markdown",
   "metadata": {},
   "source": [
    "Linear Regression:"
   ]
  },
  {
   "cell_type": "code",
   "execution_count": 104,
   "metadata": {},
   "outputs": [
    {
     "name": "stdout",
     "output_type": "stream",
     "text": [
      "0.7645515031248985\n",
      "0.8743863580391099\n",
      "0.3754728017036145\n",
      "0.8801653022389057\n",
      "0.7734207804002597\n",
      "0.8794434492338093\n",
      "0.37412815226344465\n",
      "0.8793936060579426\n"
     ]
    }
   ],
   "source": [
    "from sklearn.linear_model import LinearRegression\n",
    "from sklearn.metrics import r2_score, root_mean_squared_error, mean_squared_error\n",
    "\n",
    "clf = LinearRegression()\n",
    "\n",
    "X_train, X_test, y_train, y_test = train_test_split(a, y, test_size=0.2)\n",
    "clf.fit(X_train, y_train)\n",
    "ytrainpred = clf.predict(X_train)\n",
    "print(mean_squared_error(y_train, ytrainpred))\n",
    "print(root_mean_squared_error(y_train, ytrainpred))\n",
    "print(r2_score(y_train, ytrainpred))\n",
    "print(1 - (root_mean_squared_error(y_train, ytrainpred) / y_train.mean()))\n",
    "\n",
    "ypred = clf.predict(X_test)\n",
    "print(mean_squared_error(y_test, ypred))\n",
    "print(root_mean_squared_error(y_test, ypred))\n",
    "print(r2_score(y_test, ypred))\n",
    "print(1 - (root_mean_squared_error(y_test, ypred) / y_test.mean()))\n"
   ]
  },
  {
   "cell_type": "code",
   "execution_count": 105,
   "metadata": {},
   "outputs": [
    {
     "name": "stdout",
     "output_type": "stream",
     "text": [
      "Test Results_Abnormal: 36966902299911.1094\n",
      "Test Results_Normal: 36584969631149.8828\n",
      "Test Results_Inconclusive: 36465615681157.2266\n",
      "Medication_Aspirin: 15043014101743.2539\n",
      "Medication_Penicillin: 14926440643080.6367\n",
      "Medication_Ibuprofen: 14850961404643.9102\n",
      "Medication_Paracetamol: 14832510861384.5117\n",
      "Medication_Lipitor: 14645490160152.4434\n",
      "Gender_Female: 3253054479416.5952\n",
      "Gender_Male: 3253054451461.8115\n",
      "Admission Type_Urgent: 1837288508784.6902\n",
      "Admission Type_Elective: 1820480434907.1746\n",
      "Admission Type_Emergency: 1816166853298.7688\n",
      "Blood Type_O+: 1145016696828.1011\n",
      "Blood Type_B+: 1124517663413.8320\n",
      "Blood Type_A+: 1124060104991.3672\n",
      "Blood Type_AB-: 1113536059398.7495\n",
      "Blood Type_A-: 1105482857445.5334\n",
      "Blood Type_AB+: 1102462935342.9414\n",
      "Blood Type_O-: 1085258376803.0433\n",
      "Blood Type_B-: 1075466432818.4597\n",
      "Medical Condition_Diabetes: 748948713553.4092\n",
      "Medical Condition_Cancer: 733140870831.8206\n",
      "Medical Condition_Arthritis: 730957208629.3397\n",
      "Medical Condition_Hypertension: 728251375515.9323\n",
      "Medical Condition_Obesity: 726494964214.5887\n",
      "Medical Condition_Asthma: 718329946874.7405\n",
      "Inpatient Days: 0.7455\n",
      "Hospital: 0.0000\n",
      "Insurance Provider: 0.0000\n",
      "Age: -0.0001\n",
      "Room Number: -0.0001\n"
     ]
    }
   ],
   "source": [
    "from sklearn.inspection import permutation_importance\n",
    "\n",
    "result = permutation_importance(clf, X_test, y_test, n_repeats=10, random_state=42)\n",
    "importance_scores = result.importances_mean\n",
    "feature_importances = list(zip(X_test.columns, importance_scores))\n",
    "feature_importances.sort(key=lambda x: x[1], reverse=True)\n",
    "\n",
    "for feature, importance in feature_importances:\n",
    "    print(f\"{feature}: {importance:.4f}\")"
   ]
  },
  {
   "cell_type": "code",
   "execution_count": 106,
   "metadata": {},
   "outputs": [
    {
     "name": "stdout",
     "output_type": "stream",
     "text": [
      "0.7678689862181041\n",
      "0.8762813396496036\n",
      "0.37353673365824835\n",
      "0.879890460781652\n",
      "0.7603402705104564\n",
      "0.8719749253908947\n",
      "0.3816960023135706\n",
      "0.8804781108677018\n"
     ]
    }
   ],
   "source": [
    "b = a[['Test Results_Abnormal', 'Test Results_Normal', 'Test Results_Inconclusive', 'Admission Type_Urgent', 'Admission Type_Elective','Admission Type_Emergency', 'Medication_Aspirin','Medication_Lipitor','Medication_Paracetamol','Medication_Ibuprofen','Medication_Penicillin','Blood Type_O+'\n",
    ",'Blood Type_O-','Blood Type_B-','Blood Type_AB+','Blood Type_A-','Blood Type_A+','Blood Type_AB-','Blood Type_B+','Medical Condition_Diabetes','Medical Condition_Arthritis','Medical Condition_Obesity','Medical Condition_Hypertension','Medical Condition_Cancer','Medical Condition_Asthma','Inpatient Days']]\n",
    "X_train, X_test, y_train, y_test = train_test_split(b, y, test_size=0.2,random_state=42)\n",
    "clf.fit(X_train, y_train)\n",
    "ytrainpred = clf.predict(X_train)\n",
    "print(mean_squared_error(y_train, ytrainpred))\n",
    "print(root_mean_squared_error(y_train, ytrainpred))\n",
    "print(r2_score(y_train, ytrainpred))\n",
    "print(1 - (root_mean_squared_error(y_train, ytrainpred) / y_train.mean()))\n",
    "\n",
    "ypred = clf.predict(X_test)\n",
    "print(mean_squared_error(y_test, ypred))\n",
    "print(root_mean_squared_error(y_test, ypred))\n",
    "print(r2_score(y_test, ypred))\n",
    "print(1 - (root_mean_squared_error(y_test, ypred) / y_test.mean()))"
   ]
  },
  {
   "cell_type": "code",
   "execution_count": 107,
   "metadata": {},
   "outputs": [
    {
     "name": "stdout",
     "output_type": "stream",
     "text": [
      "0.7718900235464734\n",
      "0.8785727195551165\n",
      "0.3702561842103288\n",
      "0.8795763874673266\n",
      "0.7645982841133862\n",
      "0.8744131083837812\n",
      "0.37823341202997673\n",
      "0.8801439083248599\n"
     ]
    }
   ],
   "source": [
    "from sklearn.linear_model import Lasso\n",
    "\n",
    "clf = Lasso(alpha=0.51)\n",
    "X_train, X_test, y_train, y_test = train_test_split(a, y, test_size=0.2, random_state=42)\n",
    "clf.fit(X_train, y_train)\n",
    "ytrainpred = clf.predict(X_train)\n",
    "print(mean_squared_error(y_train, ytrainpred))\n",
    "print(root_mean_squared_error(y_train, ytrainpred))\n",
    "print(r2_score(y_train, ytrainpred))\n",
    "print(1 - (root_mean_squared_error(y_train, ytrainpred) / y_train.mean()))\n",
    "\n",
    "ypred = clf.predict(X_test)\n",
    "print(mean_squared_error(y_test, ypred))\n",
    "print(root_mean_squared_error(y_test, ypred))\n",
    "print(r2_score(y_test, ypred))\n",
    "print(1 - (root_mean_squared_error(y_test, ypred) / y_test.mean()))"
   ]
  },
  {
   "cell_type": "code",
   "execution_count": 108,
   "metadata": {},
   "outputs": [
    {
     "name": "stdout",
     "output_type": "stream",
     "text": [
      "Inpatient Days: 0.6892\n",
      "Age: 0.0000\n",
      "Insurance Provider: 0.0000\n",
      "Room Number: 0.0000\n",
      "Gender_Female: 0.0000\n",
      "Gender_Male: 0.0000\n",
      "Blood Type_A+: 0.0000\n",
      "Blood Type_A-: 0.0000\n",
      "Blood Type_AB+: 0.0000\n",
      "Blood Type_AB-: 0.0000\n",
      "Blood Type_B+: 0.0000\n",
      "Blood Type_B-: 0.0000\n",
      "Blood Type_O+: 0.0000\n",
      "Blood Type_O-: 0.0000\n",
      "Medical Condition_Arthritis: 0.0000\n",
      "Medical Condition_Asthma: 0.0000\n",
      "Medical Condition_Cancer: 0.0000\n",
      "Medical Condition_Diabetes: 0.0000\n",
      "Medical Condition_Hypertension: 0.0000\n",
      "Medical Condition_Obesity: 0.0000\n",
      "Admission Type_Elective: 0.0000\n",
      "Admission Type_Emergency: 0.0000\n",
      "Admission Type_Urgent: 0.0000\n",
      "Medication_Aspirin: 0.0000\n",
      "Medication_Ibuprofen: 0.0000\n",
      "Medication_Lipitor: 0.0000\n",
      "Medication_Paracetamol: 0.0000\n",
      "Medication_Penicillin: 0.0000\n",
      "Test Results_Abnormal: 0.0000\n",
      "Test Results_Inconclusive: 0.0000\n",
      "Test Results_Normal: 0.0000\n",
      "Hospital: -0.0001\n"
     ]
    }
   ],
   "source": [
    "result = permutation_importance(clf, X_test, y_test, n_repeats=10, random_state=42)\n",
    "importance_scores = result.importances_mean\n",
    "feature_importances = list(zip(X_test.columns, importance_scores))\n",
    "feature_importances.sort(key=lambda x: x[1], reverse=True)\n",
    "\n",
    "for feature, importance in feature_importances:\n",
    "    print(f\"{feature}: {importance:.4f}\")"
   ]
  },
  {
   "cell_type": "code",
   "execution_count": 109,
   "metadata": {},
   "outputs": [
    {
     "name": "stdout",
     "output_type": "stream",
     "text": [
      "0.7761010311905021\n",
      "0.880965964830936\n",
      "0.37040077463680265\n",
      "0.8792147939169097\n",
      "0.7468888031861073\n",
      "0.8642272867632145\n",
      "0.37850518830271207\n",
      "0.8816715772264665\n"
     ]
    }
   ],
   "source": [
    "clf = Lasso(alpha=0.51)\n",
    "b = a[['Inpatient Days']]\n",
    "X_train, X_test, y_train, y_test = train_test_split(a, y, test_size=0.2,random_state=52)\n",
    "clf.fit(X_train, y_train)\n",
    "ytrainpred = clf.predict(X_train)\n",
    "print(mean_squared_error(y_train, ytrainpred))\n",
    "print(root_mean_squared_error(y_train, ytrainpred))\n",
    "print(r2_score(y_train, ytrainpred))\n",
    "print(1 - (root_mean_squared_error(y_train, ytrainpred) / y_train.mean()))\n",
    "\n",
    "ypred = clf.predict(X_test)\n",
    "print(mean_squared_error(y_test, ypred))\n",
    "print(root_mean_squared_error(y_test, ypred))\n",
    "print(r2_score(y_test, ypred))\n",
    "print(1 - (root_mean_squared_error(y_test, ypred) / y_test.mean()))"
   ]
  },
  {
   "cell_type": "markdown",
   "metadata": {},
   "source": [
    "Random Forest:"
   ]
  },
  {
   "cell_type": "code",
   "execution_count": 110,
   "metadata": {},
   "outputs": [
    {
     "name": "stdout",
     "output_type": "stream",
     "text": [
      "0.13248926446454506\n",
      "0.3639907477732711\n",
      "0.8919090901424946\n",
      "0.9501087618592092\n",
      "0.727857723659944\n",
      "0.853145781012802\n",
      "0.4081106081836834\n",
      "0.8830590278657514\n"
     ]
    }
   ],
   "source": [
    "from sklearn.ensemble import RandomForestRegressor\n",
    "clf = RandomForestRegressor(n_estimators=10, random_state=42)\n",
    "X_train, X_test, y_train, y_test = train_test_split(a, y, test_size=0.2,random_state=42)\n",
    "clf.fit(X_train, y_train)\n",
    "ytrainpred = clf.predict(X_train)\n",
    "print(mean_squared_error(y_train, ytrainpred))\n",
    "print(root_mean_squared_error(y_train, ytrainpred))\n",
    "print(r2_score(y_train, ytrainpred))\n",
    "print(1 - (root_mean_squared_error(y_train, ytrainpred) / y_train.mean()))\n",
    "\n",
    "ypred = clf.predict(X_test)\n",
    "print(mean_squared_error(y_test, ypred))\n",
    "print(root_mean_squared_error(y_test, ypred))\n",
    "print(r2_score(y_test, ypred))\n",
    "print(1 - (root_mean_squared_error(y_test, ypred) / y_test.mean()))"
   ]
  },
  {
   "cell_type": "code",
   "execution_count": 111,
   "metadata": {},
   "outputs": [
    {
     "name": "stdout",
     "output_type": "stream",
     "text": [
      "Inpatient Days: 0.9122\n",
      "Hospital: 0.0431\n",
      "Room Number: 0.0418\n",
      "Age: 0.0225\n",
      "Insurance Provider: 0.0129\n",
      "Blood Type_O+: 0.0054\n",
      "Medical Condition_Arthritis: 0.0042\n",
      "Blood Type_AB+: 0.0040\n",
      "Medication_Paracetamol: 0.0040\n",
      "Admission Type_Elective: 0.0039\n",
      "Test Results_Inconclusive: 0.0037\n",
      "Medication_Lipitor: 0.0037\n",
      "Blood Type_A+: 0.0036\n",
      "Blood Type_O-: 0.0034\n",
      "Test Results_Normal: 0.0033\n",
      "Blood Type_B+: 0.0031\n",
      "Medication_Aspirin: 0.0029\n",
      "Admission Type_Emergency: 0.0029\n",
      "Blood Type_B-: 0.0028\n",
      "Medication_Ibuprofen: 0.0028\n",
      "Medication_Penicillin: 0.0028\n",
      "Blood Type_A-: 0.0028\n",
      "Medical Condition_Cancer: 0.0026\n",
      "Medical Condition_Obesity: 0.0026\n",
      "Medical Condition_Diabetes: 0.0026\n",
      "Medical Condition_Hypertension: 0.0025\n",
      "Test Results_Abnormal: 0.0025\n",
      "Gender_Male: 0.0024\n",
      "Gender_Female: 0.0023\n",
      "Admission Type_Urgent: 0.0022\n",
      "Medical Condition_Asthma: 0.0018\n",
      "Blood Type_AB-: 0.0017\n"
     ]
    }
   ],
   "source": [
    "result = permutation_importance(clf, X_test, y_test, n_repeats=10, random_state=42)\n",
    "importance_scores = result.importances_mean\n",
    "feature_importances = list(zip(X_test.columns, importance_scores))\n",
    "feature_importances.sort(key=lambda x: x[1], reverse=True)\n",
    "\n",
    "for feature, importance in feature_importances:\n",
    "    print(f\"{feature}: {importance:.4f}\")"
   ]
  },
  {
   "cell_type": "code",
   "execution_count": 112,
   "metadata": {},
   "outputs": [
    {
     "name": "stdout",
     "output_type": "stream",
     "text": [
      "0.7141999553275666\n",
      "0.8451035175217096\n",
      "0.41732242756766824\n",
      "0.8841639214616551\n",
      "0.7095883641145542\n",
      "0.8423706809442943\n",
      "0.4229671381876796\n",
      "0.884535974367625\n"
     ]
    }
   ],
   "source": [
    "b = a[['Inpatient Days']]\n",
    "clf = RandomForestRegressor(n_estimators=10, random_state=42)\n",
    "X_train, X_test, y_train, y_test = train_test_split(b, y, test_size=0.2,random_state=42)\n",
    "clf.fit(X_train, y_train)\n",
    "ytrainpred = clf.predict(X_train)\n",
    "print(mean_squared_error(y_train, ytrainpred))\n",
    "print(root_mean_squared_error(y_train, ytrainpred))\n",
    "print(r2_score(y_train, ytrainpred))\n",
    "print(1 - (root_mean_squared_error(y_train, ytrainpred) / y_train.mean()))\n",
    "\n",
    "ypred = clf.predict(X_test)\n",
    "print(mean_squared_error(y_test, ypred))\n",
    "print(root_mean_squared_error(y_test, ypred))\n",
    "print(r2_score(y_test, ypred))\n",
    "print(1 - (root_mean_squared_error(y_test, ypred) / y_test.mean()))"
   ]
  },
  {
   "cell_type": "markdown",
   "metadata": {},
   "source": [
    "KNN:"
   ]
  },
  {
   "cell_type": "code",
   "execution_count": 113,
   "metadata": {},
   "outputs": [
    {
     "name": "stdout",
     "output_type": "stream",
     "text": [
      "1.1747695464676648\n",
      "1.0838678639334525\n",
      "0.04156831375148973\n",
      "0.8514371311813191\n",
      "1.2278187985565046\n",
      "1.1080698527423731\n",
      "0.0015453593265973842\n",
      "0.8481165017090996\n"
     ]
    }
   ],
   "source": [
    "from sklearn.neighbors import KNeighborsRegressor\n",
    "clf = KNeighborsRegressor(n_neighbors=49)\n",
    "X_train, X_test, y_train, y_test = train_test_split(a, y, test_size=0.2,random_state=42)\n",
    "clf.fit(X_train, y_train)\n",
    "ytrainpred = clf.predict(X_train)\n",
    "print(mean_squared_error(y_train, ytrainpred))\n",
    "print(root_mean_squared_error(y_train, ytrainpred))\n",
    "print(r2_score(y_train, ytrainpred))\n",
    "print(1 - (root_mean_squared_error(y_train, ytrainpred) / y_train.mean()))\n",
    "\n",
    "ypred = clf.predict(X_test)\n",
    "print(mean_squared_error(y_test, ypred))\n",
    "print(root_mean_squared_error(y_test, ypred))\n",
    "print(r2_score(y_test, ypred))\n",
    "print(1 - (root_mean_squared_error(y_test, ypred) / y_test.mean()))"
   ]
  },
  {
   "cell_type": "code",
   "execution_count": 114,
   "metadata": {},
   "outputs": [
    {
     "name": "stdout",
     "output_type": "stream",
     "text": [
      "Inpatient Days: 0.0193\n",
      "Hospital: 0.0054\n",
      "Room Number: 0.0035\n",
      "Insurance Provider: 0.0001\n",
      "Medical Condition_Arthritis: 0.0000\n",
      "Medication_Aspirin: 0.0000\n",
      "Admission Type_Urgent: 0.0000\n",
      "Test Results_Normal: 0.0000\n",
      "Medication_Penicillin: 0.0000\n",
      "Medication_Lipitor: 0.0000\n",
      "Blood Type_O-: 0.0000\n",
      "Admission Type_Emergency: 0.0000\n",
      "Medical Condition_Asthma: 0.0000\n",
      "Medical Condition_Cancer: 0.0000\n",
      "Blood Type_B+: 0.0000\n",
      "Blood Type_AB-: -0.0000\n",
      "Blood Type_A-: -0.0000\n",
      "Blood Type_A+: -0.0000\n",
      "Medication_Ibuprofen: -0.0000\n",
      "Medication_Paracetamol: -0.0000\n",
      "Admission Type_Elective: -0.0000\n",
      "Blood Type_B-: -0.0000\n",
      "Medical Condition_Diabetes: -0.0000\n",
      "Blood Type_O+: -0.0000\n",
      "Medical Condition_Obesity: -0.0000\n",
      "Test Results_Inconclusive: -0.0000\n",
      "Blood Type_AB+: -0.0000\n",
      "Test Results_Abnormal: -0.0000\n",
      "Medical Condition_Hypertension: -0.0000\n",
      "Gender_Female: -0.0000\n",
      "Gender_Male: -0.0000\n",
      "Age: -0.0009\n"
     ]
    }
   ],
   "source": [
    "result = permutation_importance(clf, X_test, y_test, n_repeats=10, random_state=42)\n",
    "importance_scores = result.importances_mean\n",
    "feature_importances = list(zip(X_test.columns, importance_scores))\n",
    "feature_importances.sort(key=lambda x: x[1], reverse=True)\n",
    "\n",
    "for feature, importance in feature_importances:\n",
    "    print(f\"{feature}: {importance:.4f}\")"
   ]
  },
  {
   "cell_type": "code",
   "execution_count": 115,
   "metadata": {},
   "outputs": [
    {
     "name": "stdout",
     "output_type": "stream",
     "text": [
      "0.7143822740493213\n",
      "0.8452113783245712\n",
      "0.41717368346679207\n",
      "0.8841491372699289\n",
      "0.7102613541032172\n",
      "0.8427700481763796\n",
      "0.4224198668980582\n",
      "0.8844812329700843\n"
     ]
    }
   ],
   "source": [
    "b = a[['Inpatient Days']]\n",
    "clf = KNeighborsRegressor(n_neighbors=1000)\n",
    "X_train, X_test, y_train, y_test = train_test_split(b, y, test_size=0.2,random_state=42)\n",
    "clf.fit(X_train, y_train)\n",
    "ytrainpred = clf.predict(X_train)\n",
    "print(mean_squared_error(y_train, ytrainpred))\n",
    "print(root_mean_squared_error(y_train, ytrainpred))\n",
    "print(r2_score(y_train, ytrainpred))\n",
    "print(1 - (root_mean_squared_error(y_train, ytrainpred) / y_train.mean()))\n",
    "\n",
    "ypred = clf.predict(X_test)\n",
    "print(mean_squared_error(y_test, ypred))\n",
    "print(root_mean_squared_error(y_test, ypred))\n",
    "print(r2_score(y_test, ypred))\n",
    "print(1 - (root_mean_squared_error(y_test, ypred) / y_test.mean()))"
   ]
  },
  {
   "cell_type": "markdown",
   "metadata": {},
   "source": [
    "Gradient Boosting:"
   ]
  },
  {
   "cell_type": "code",
   "execution_count": 116,
   "metadata": {},
   "outputs": [
    {
     "name": "stdout",
     "output_type": "stream",
     "text": [
      "0.7047809759240349\n",
      "0.8395123441165323\n",
      "0.42500686945638666\n",
      "0.8849302886442021\n",
      "0.7107963051114434\n",
      "0.8430873650526637\n",
      "0.4219848480521794\n",
      "0.8844377382417352\n"
     ]
    }
   ],
   "source": [
    "from sklearn import ensemble\n",
    "params = {\n",
    "    \"n_estimators\": 500,\n",
    "    \"max_depth\": 4,\n",
    "    \"min_samples_split\": 5,\n",
    "    \"learning_rate\": 0.01,\n",
    "    \"loss\": \"squared_error\",\n",
    "}\n",
    "\n",
    "clf = ensemble.GradientBoostingRegressor(**params)\n",
    "X_train, X_test, y_train, y_test = train_test_split(a, y, test_size=0.2,random_state=42)\n",
    "clf.fit(X_train, y_train)\n",
    "ytrainpred = clf.predict(X_train)\n",
    "print(mean_squared_error(y_train, ytrainpred))\n",
    "print(root_mean_squared_error(y_train, ytrainpred))\n",
    "print(r2_score(y_train, ytrainpred))\n",
    "print(1 - (root_mean_squared_error(y_train, ytrainpred) / y_train.mean()))\n",
    "\n",
    "ypred = clf.predict(X_test)\n",
    "print(mean_squared_error(y_test, ypred))\n",
    "print(root_mean_squared_error(y_test, ypred))\n",
    "print(r2_score(y_test, ypred))\n",
    "print(1 - (root_mean_squared_error(y_test, ypred) / y_test.mean()))"
   ]
  },
  {
   "cell_type": "code",
   "execution_count": 117,
   "metadata": {},
   "outputs": [
    {
     "name": "stdout",
     "output_type": "stream",
     "text": [
      "Inpatient Days: 0.8296\n",
      "Hospital: 0.0004\n",
      "Room Number: 0.0003\n",
      "Insurance Provider: 0.0001\n",
      "Medical Condition_Arthritis: 0.0001\n",
      "Medical Condition_Obesity: 0.0001\n",
      "Blood Type_B+: 0.0000\n",
      "Blood Type_O+: 0.0000\n",
      "Medication_Paracetamol: 0.0000\n",
      "Medical Condition_Cancer: 0.0000\n",
      "Test Results_Inconclusive: 0.0000\n",
      "Medication_Ibuprofen: 0.0000\n",
      "Blood Type_AB+: 0.0000\n",
      "Test Results_Normal: 0.0000\n",
      "Blood Type_O-: 0.0000\n",
      "Admission Type_Elective: 0.0000\n",
      "Blood Type_B-: 0.0000\n",
      "Test Results_Abnormal: 0.0000\n",
      "Medical Condition_Diabetes: 0.0000\n",
      "Admission Type_Emergency: -0.0000\n",
      "Medical Condition_Asthma: -0.0000\n",
      "Gender_Male: -0.0000\n",
      "Gender_Female: -0.0000\n",
      "Medication_Aspirin: -0.0000\n",
      "Blood Type_A+: -0.0000\n",
      "Medication_Lipitor: -0.0000\n",
      "Medical Condition_Hypertension: -0.0000\n",
      "Blood Type_A-: -0.0000\n",
      "Medication_Penicillin: -0.0000\n",
      "Admission Type_Urgent: -0.0000\n",
      "Blood Type_AB-: -0.0000\n",
      "Age: -0.0002\n"
     ]
    }
   ],
   "source": [
    "result = permutation_importance(clf, X_test, y_test, n_repeats=10, random_state=42)\n",
    "importance_scores = result.importances_mean\n",
    "feature_importances = list(zip(X_test.columns, importance_scores))\n",
    "feature_importances.sort(key=lambda x: x[1], reverse=True)\n",
    "\n",
    "for feature, importance in feature_importances:\n",
    "    print(f\"{feature}: {importance:.4f}\")"
   ]
  },
  {
   "cell_type": "code",
   "execution_count": 118,
   "metadata": {},
   "outputs": [
    {
     "name": "stdout",
     "output_type": "stream",
     "text": [
      "0.7062098967511957\n",
      "0.8403629553658323\n",
      "0.4238410893235859\n",
      "0.8848136976356017\n",
      "0.7102184089721685\n",
      "0.8427445692332692\n",
      "0.42245478961258287\n",
      "0.8844847253771765\n"
     ]
    }
   ],
   "source": [
    "params = {\n",
    "    \"n_estimators\": 500,\n",
    "    \"max_depth\": 4,\n",
    "    \"min_samples_split\": 5,\n",
    "    \"learning_rate\": 0.01,\n",
    "    \"loss\": \"squared_error\",\n",
    "}\n",
    "\n",
    "b = a[['Inpatient Days','Hospital','Room Number','Insurance Provider']]\n",
    "\n",
    "clf = ensemble.GradientBoostingRegressor(**params)\n",
    "X_train, X_test, y_train, y_test = train_test_split(b, y, test_size=0.2,random_state=42)\n",
    "clf.fit(X_train, y_train)\n",
    "ytrainpred = clf.predict(X_train)\n",
    "print(mean_squared_error(y_train, ytrainpred))\n",
    "print(root_mean_squared_error(y_train, ytrainpred))\n",
    "print(r2_score(y_train, ytrainpred))\n",
    "print(1 - (root_mean_squared_error(y_train, ytrainpred) / y_train.mean()))\n",
    "\n",
    "ypred = clf.predict(X_test)\n",
    "print(mean_squared_error(y_test, ypred))\n",
    "print(root_mean_squared_error(y_test, ypred))\n",
    "print(r2_score(y_test, ypred))\n",
    "print(1 - (root_mean_squared_error(y_test, ypred) / y_test.mean()))"
   ]
  },
  {
   "cell_type": "code",
   "execution_count": 119,
   "metadata": {},
   "outputs": [
    {
     "name": "stdout",
     "output_type": "stream",
     "text": [
      "Feature Test Results_Inconclusive with importance: 10.1288\n",
      "Feature Test Results_Abnormal with importance: 9.9243\n",
      "Feature Medication_Paracetamol with importance: 9.6156\n",
      "Feature Medication_Penicillin with importance: 9.4308\n",
      "Feature Gender_Male with importance: 9.3852\n",
      "Feature Admission Type_Emergency with importance: 9.3638\n",
      "Feature Medical Condition_Hypertension with importance: 9.2559\n",
      "Feature Medication_Aspirin with importance: 9.2116\n",
      "Feature Gender_Female with importance: 9.1645\n",
      "Feature Medical Condition_Arthritis with importance: 9.0996\n",
      "Feature Admission Type_Elective with importance: 9.0520\n",
      "Feature Medication_Lipitor with importance: 9.0305\n",
      "Feature Admission Type_Urgent with importance: 8.9962\n",
      "Feature Medical Condition_Diabetes with importance: 8.9824\n",
      "Feature Test Results_Normal with importance: 8.7706\n",
      "-12.597714796108766\n",
      "0.4394951361741616\n"
     ]
    }
   ],
   "source": [
    "from sklearn.neural_network import MLPRegressor\n",
    "from sklearn.model_selection import train_test_split\n",
    "\n",
    "X_train, X_test, y_train, y_test = train_test_split(a, y, test_size=0.2, random_state=42)\n",
    "#X_train = scaler.fit_transform(X_train)\n",
    "#X_test = scaler.fit_transform(X_test)\n",
    "\n",
    "#activation{‘identity’, ‘logistic’, ‘tanh’, ‘relu’}\n",
    "#solver{‘lbfgs’, ‘sgd’, ‘adam’}\n",
    "clf = MLPRegressor(hidden_layer_sizes=(40,), max_iter=1000, alpha = 0.005, learning_rate_init= 0.002, activation='relu', solver='adam', random_state=2)\n",
    "clf.fit(X_train, y_train)\n",
    "\n",
    "feature_importance = np.abs(clf.coefs_[0]).sum(axis=1)\n",
    "sorted_indices = np.argsort(feature_importance)[::-1]\n",
    "for idx in sorted_indices[:15]:\n",
    "    print(f\"Feature {a.columns[idx]} with importance: {feature_importance[idx]:.4f}\")\n",
    "ypred = clf.predict(X_test)\n",
    "print(r2_score(y_test, ypred))\n",
    "print(1 - (root_mean_squared_error(y_test, ypred) / y_test.mean()))\n"
   ]
  },
  {
   "cell_type": "code",
   "execution_count": null,
   "metadata": {},
   "outputs": [
    {
     "name": "stdout",
     "output_type": "stream",
     "text": [
      "0.7514725862601008\n",
      "0.8668751849373131\n",
      "0.38691368006225246\n",
      "0.8811797372470866\n",
      "0.752185107565312\n",
      "0.8672860586711353\n",
      "0.38832773029949175\n",
      "0.8811208153674716\n"
     ]
    }
   ],
   "source": [
    "from sklearn.metrics import mean_squared_error\n",
    "c = a[['Inpatient Days', 'Admission Type_Urgent', 'Gender_Male','Admission Type_Emergency','Gender_Female','Admission Type_Elective','Test Results_Abnormal','Test Results_Normal',\n",
    "       ]]\n",
    "\n",
    "X_train, X_test, y_train, y_test = train_test_split(b, y, test_size=0.2, random_state=42)\n",
    "\n",
    "X_train = scaler.fit_transform(X_train)\n",
    "X_test = scaler.fit_transform(X_test)\n",
    "\n",
    "#activation{‘identity’, ‘logistic’, ‘tanh’, ‘relu’}\n",
    "#solver{‘lbfgs’, ‘sgd’, ‘adam’}\n",
    "\n",
    "clf = MLPRegressor(hidden_layer_sizes=(400,20), max_iter=1000, alpha = 0.002, learning_rate_init= 0.00225, activation='relu', solver='adam', random_state=2)\n",
    "clf.fit(X_train, y_train)\n",
    "ytrainpred = clf.predict(X_train)\n",
    "print(mean_squared_error(y_train, ytrainpred))\n",
    "print(root_mean_squared_error(y_train, ytrainpred))\n",
    "print(r2_score(y_train, ytrainpred))\n",
    "print(1 - (root_mean_squared_error(y_train, ytrainpred) / y_train.mean()))\n",
    "\n",
    "ypred = clf.predict(X_test)\n",
    "print(mean_squared_error(y_test, ypred))\n",
    "print(root_mean_squared_error(y_test, ypred))\n",
    "print(r2_score(y_test, ypred))\n",
    "print(1 - (root_mean_squared_error(y_test, ypred) / y_test.mean()))"
   ]
  },
  {
   "cell_type": "markdown",
   "metadata": {},
   "source": [
    "MLP Classifier"
   ]
  },
  {
   "cell_type": "code",
   "execution_count": 121,
   "metadata": {},
   "outputs": [
    {
     "name": "stdout",
     "output_type": "stream",
     "text": [
      "Cluster 4: Min = 8.595508199417546, Max = 10.169917635856136\n",
      "Cluster 1: Min = 7.66657962083134, Max = 8.595031462261742\n",
      "Cluster 2: Min = 6.818113558841316, Max = 7.666413666294099\n",
      "Cluster 0: Min = 5.687089475433073, Max = 6.818033255724976\n",
      "Cluster 3: Min = -0.09144371947623782, Max = 5.686645591100923\n",
      "0        8\n",
      "1        8\n",
      "2        8\n",
      "3        8\n",
      "4        6\n",
      "        ..\n",
      "55495    4\n",
      "55496    8\n",
      "55497    6\n",
      "55498    8\n",
      "55499    4\n",
      "Name: cat bill, Length: 55392, dtype: category\n",
      "Categories (6, int64): [0 < 2 < 4 < 6 < 8 < 10]\n"
     ]
    }
   ],
   "source": [
    "bins = [-1, 1, 3, 5, 7, 9, 11]\n",
    "labels = [0, 2, 4, 6, 8, 10]\n",
    "\n",
    "df['cat bill'] = pd.cut(df['Log Per Day Amount'], bins=bins, labels=labels, right=True)\n",
    "\n",
    "from sklearn.cluster import KMeans\n",
    "\n",
    "kmeans = KMeans(n_clusters=5, random_state=42)\n",
    "df['l'] = kmeans.fit_predict(df[['Log Per Day Amount']])\n",
    "\n",
    "centroids = kmeans.cluster_centers_\n",
    "\n",
    "cluster_edges = {}\n",
    "for cluster_label in df['l'].unique():\n",
    "    cluster_data = df[df['l'] == cluster_label]['Log Per Day Amount']\n",
    "    min_val = cluster_data.min()\n",
    "    max_val = cluster_data.max()\n",
    "    cluster_edges[cluster_label] = (min_val, max_val)\n",
    "\n",
    "for cluster_label, (min_val, max_val) in cluster_edges.items():\n",
    "    print(f\"Cluster {cluster_label}: Min = {min_val}, Max = {max_val}\")\n",
    "print(df['cat bill'])"
   ]
  },
  {
   "cell_type": "code",
   "execution_count": null,
   "metadata": {},
   "outputs": [
    {
     "name": "stdout",
     "output_type": "stream",
     "text": [
      "2.0235145442646627\n",
      "1.4225029153800222\n",
      "-0.2581691213265289\n",
      "0.5909326834111885\n",
      "2.0196768661431537\n",
      "1.4211533577144846\n",
      "-0.2477571610728453\n",
      "0.5933748533261125\n",
      "None\n"
     ]
    }
   ],
   "source": [
    "from sklearn.neural_network import MLPClassifier\n",
    "X_train, X_test, y_train, y_test = train_test_split(a, df['cat bill'], test_size=0.2, random_state=42)\n",
    "clf = MLPClassifier(hidden_layer_sizes=(400,20), max_iter=1000, alpha = 0.002, learning_rate_init= 0.00225, activation='relu', solver='adam', random_state=2)\n",
    "clf.fit(X_train, y_train)\n",
    "ytrainpred = clf.predict(X_train)\n",
    "print(mean_squared_error(y_train, ytrainpred))\n",
    "print(root_mean_squared_error(y_train, ytrainpred))\n",
    "print(r2_score(y_train, ytrainpred))\n",
    "print(accuracy_score(y_train, ytrainpred))\n",
    "\n",
    "ypred = clf.predict(X_test)\n",
    "print(mean_squared_error(y_test, ypred))\n",
    "print(root_mean_squared_error(y_test, ypred))\n",
    "print(r2_score(y_test, ypred))\n",
    "print(print(accuracy_score(y_test, ypred)))"
   ]
  },
  {
   "cell_type": "code",
   "execution_count": 123,
   "metadata": {},
   "outputs": [
    {
     "name": "stdout",
     "output_type": "stream",
     "text": [
      "Age: 0.0000\n",
      "Hospital: 0.0000\n",
      "Insurance Provider: 0.0000\n",
      "Room Number: 0.0000\n",
      "Inpatient Days: 0.0000\n",
      "Gender_Female: 0.0000\n",
      "Gender_Male: 0.0000\n",
      "Blood Type_A+: 0.0000\n",
      "Blood Type_A-: 0.0000\n",
      "Blood Type_AB+: 0.0000\n",
      "Blood Type_AB-: 0.0000\n",
      "Blood Type_B+: 0.0000\n",
      "Blood Type_B-: 0.0000\n",
      "Blood Type_O+: 0.0000\n",
      "Blood Type_O-: 0.0000\n",
      "Medical Condition_Arthritis: 0.0000\n",
      "Medical Condition_Asthma: 0.0000\n",
      "Medical Condition_Cancer: 0.0000\n",
      "Medical Condition_Diabetes: 0.0000\n",
      "Medical Condition_Hypertension: 0.0000\n",
      "Medical Condition_Obesity: 0.0000\n",
      "Admission Type_Elective: 0.0000\n",
      "Admission Type_Emergency: 0.0000\n",
      "Admission Type_Urgent: 0.0000\n",
      "Medication_Aspirin: 0.0000\n",
      "Medication_Ibuprofen: 0.0000\n",
      "Medication_Lipitor: 0.0000\n",
      "Medication_Paracetamol: 0.0000\n",
      "Medication_Penicillin: 0.0000\n",
      "Test Results_Abnormal: 0.0000\n",
      "Test Results_Inconclusive: 0.0000\n",
      "Test Results_Normal: 0.0000\n"
     ]
    }
   ],
   "source": [
    "result = permutation_importance(clf, X_test, y_test, n_repeats=10, random_state=42)\n",
    "importance_scores = result.importances_mean\n",
    "feature_importances = list(zip(X_test.columns, importance_scores))\n",
    "feature_importances.sort(key=lambda x: x[1], reverse=True)\n",
    "\n",
    "for feature, importance in feature_importances:\n",
    "    print(f\"{feature}: {importance:.4f}\")"
   ]
  },
  {
   "cell_type": "code",
   "execution_count": 127,
   "metadata": {},
   "outputs": [
    {
     "name": "stdout",
     "output_type": "stream",
     "text": [
      "1.6430392886963194\n",
      "1.2818109410893321\n",
      "-0.021599426613083006\n",
      "0.6393157764087288\n",
      "1.6311941510966694\n",
      "1.2771821135204915\n",
      "-0.007752387151790385\n",
      "0.6412131058759816\n",
      "None\n"
     ]
    }
   ],
   "source": [
    "from sklearn.neural_network import MLPClassifier\n",
    "b = a[['Inpatient Days', 'Admission Type_Urgent', 'Gender_Male','Admission Type_Emergency','Gender_Female','Admission Type_Elective','Test Results_Abnormal','Test Results_Normal',\n",
    "       ]]\n",
    "X_train, X_test, y_train, y_test = train_test_split(b, df['cat bill'], test_size=0.2, random_state=42)\n",
    "X_train = scaler.fit_transform(X_train)\n",
    "X_test = scaler.fit_transform(X_test)\n",
    "clf = MLPClassifier(hidden_layer_sizes=(400,20), max_iter=1000, alpha = 0.002, learning_rate_init= 0.00225, activation='relu', solver='adam', random_state=2)\n",
    "clf.fit(X_train, y_train)\n",
    "ytrainpred = clf.predict(X_train)\n",
    "print(mean_squared_error(y_train, ytrainpred))\n",
    "print(root_mean_squared_error(y_train, ytrainpred))\n",
    "print(r2_score(y_train, ytrainpred))\n",
    "print(accuracy_score(y_train, ytrainpred))\n",
    "\n",
    "ypred = clf.predict(X_test)\n",
    "print(mean_squared_error(y_test, ypred))\n",
    "print(root_mean_squared_error(y_test, ypred))\n",
    "print(r2_score(y_test, ypred))\n",
    "print(print(accuracy_score(y_test, ypred)))"
   ]
  }
 ],
 "metadata": {
  "kernelspec": {
   "display_name": "Python 3",
   "language": "python",
   "name": "python3"
  },
  "language_info": {
   "codemirror_mode": {
    "name": "ipython",
    "version": 3
   },
   "file_extension": ".py",
   "mimetype": "text/x-python",
   "name": "python",
   "nbconvert_exporter": "python",
   "pygments_lexer": "ipython3",
   "version": "3.11.9"
  }
 },
 "nbformat": 4,
 "nbformat_minor": 2
}

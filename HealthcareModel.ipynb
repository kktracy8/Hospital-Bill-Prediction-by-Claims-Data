{
 "cells": [
  {
   "cell_type": "markdown",
   "metadata": {},
   "source": [
    "## Import Libraries"
   ]
  },
  {
   "cell_type": "code",
   "execution_count": 1,
   "metadata": {},
   "outputs": [
    {
     "name": "stderr",
     "output_type": "stream",
     "text": [
      "/var/folders/z1/90rjsj_j4t53rc9v54dnwpq00000gp/T/ipykernel_27740/3363500883.py:4: DeprecationWarning: \n",
      "Pyarrow will become a required dependency of pandas in the next major release of pandas (pandas 3.0),\n",
      "(to allow more performant data types, such as the Arrow string type, and better interoperability with other libraries)\n",
      "but was not found to be installed on your system.\n",
      "If this would cause problems for you,\n",
      "please provide us feedback at https://github.com/pandas-dev/pandas/issues/54466\n",
      "        \n",
      "  import pandas as pd\n"
     ]
    }
   ],
   "source": [
    "# Import libraries \n",
    "\n",
    "import numpy as np\n",
    "import pandas as pd\n",
    "import matplotlib.pyplot as plt\n",
    "import seaborn as sns\n",
    "import scipy.stats as stats\n",
    "from sklearn.ensemble import RandomForestClassifier\n",
    "from sklearn.linear_model import LogisticRegression\n",
    "from sklearn.linear_model import LinearRegression\n",
    "from sklearn.preprocessing import LabelEncoder\n",
    "from sklearn.model_selection import train_test_split\n",
    "from sklearn import metrics\n",
    "from sklearn.metrics import classification_report, mean_squared_error, r2_score, mean_absolute_error, confusion_matrix, ConfusionMatrixDisplay\n",
    "from sklearn.neighbors import KNeighborsClassifier\n",
    "from sklearn.neighbors import KNeighborsRegressor\n",
    "from sklearn.linear_model import LogisticRegression\n",
    "from sklearn import metrics\n",
    "from sklearn.svm import SVC\n",
    "from sklearn.neural_network import MLPClassifier\n",
    "from sklearn.feature_selection import mutual_info_regression\n",
    "import math \n",
    "import warnings\n",
    "\n",
    "# Ignore warnings \n",
    "\n",
    "pd.options.mode.chained_assignment = None\n",
    "warnings.simplefilter(action='ignore', category=FutureWarning)"
   ]
  },
  {
   "cell_type": "markdown",
   "metadata": {},
   "source": [
    "## Read Data \n",
    "Read data and save to dataframe. Review shape and drop duplicates. Clean up columns and correct data types."
   ]
  },
  {
   "cell_type": "code",
   "execution_count": 2,
   "metadata": {},
   "outputs": [
    {
     "data": {
      "text/html": [
       "<div>\n",
       "<style scoped>\n",
       "    .dataframe tbody tr th:only-of-type {\n",
       "        vertical-align: middle;\n",
       "    }\n",
       "\n",
       "    .dataframe tbody tr th {\n",
       "        vertical-align: top;\n",
       "    }\n",
       "\n",
       "    .dataframe thead th {\n",
       "        text-align: right;\n",
       "    }\n",
       "</style>\n",
       "<table border=\"1\" class=\"dataframe\">\n",
       "  <thead>\n",
       "    <tr style=\"text-align: right;\">\n",
       "      <th></th>\n",
       "      <th>Name</th>\n",
       "      <th>Age</th>\n",
       "      <th>Gender</th>\n",
       "      <th>Blood Type</th>\n",
       "      <th>Medical Condition</th>\n",
       "      <th>Date of Admission</th>\n",
       "      <th>Doctor</th>\n",
       "      <th>Hospital</th>\n",
       "      <th>Insurance Provider</th>\n",
       "      <th>Billing Amount</th>\n",
       "      <th>Room Number</th>\n",
       "      <th>Admission Type</th>\n",
       "      <th>Discharge Date</th>\n",
       "      <th>Medication</th>\n",
       "      <th>Test Results</th>\n",
       "    </tr>\n",
       "  </thead>\n",
       "  <tbody>\n",
       "    <tr>\n",
       "      <th>0</th>\n",
       "      <td>Bobby JacksOn</td>\n",
       "      <td>30</td>\n",
       "      <td>Male</td>\n",
       "      <td>B-</td>\n",
       "      <td>Cancer</td>\n",
       "      <td>2024-01-31</td>\n",
       "      <td>Matthew Smith</td>\n",
       "      <td>Sons and Miller</td>\n",
       "      <td>Blue Cross</td>\n",
       "      <td>18856.281306</td>\n",
       "      <td>328</td>\n",
       "      <td>Urgent</td>\n",
       "      <td>2024-02-02</td>\n",
       "      <td>Paracetamol</td>\n",
       "      <td>Normal</td>\n",
       "    </tr>\n",
       "    <tr>\n",
       "      <th>1</th>\n",
       "      <td>LesLie TErRy</td>\n",
       "      <td>62</td>\n",
       "      <td>Male</td>\n",
       "      <td>A+</td>\n",
       "      <td>Obesity</td>\n",
       "      <td>2019-08-20</td>\n",
       "      <td>Samantha Davies</td>\n",
       "      <td>Kim Inc</td>\n",
       "      <td>Medicare</td>\n",
       "      <td>33643.327287</td>\n",
       "      <td>265</td>\n",
       "      <td>Emergency</td>\n",
       "      <td>2019-08-26</td>\n",
       "      <td>Ibuprofen</td>\n",
       "      <td>Inconclusive</td>\n",
       "    </tr>\n",
       "    <tr>\n",
       "      <th>2</th>\n",
       "      <td>DaNnY sMitH</td>\n",
       "      <td>76</td>\n",
       "      <td>Female</td>\n",
       "      <td>A-</td>\n",
       "      <td>Obesity</td>\n",
       "      <td>2022-09-22</td>\n",
       "      <td>Tiffany Mitchell</td>\n",
       "      <td>Cook PLC</td>\n",
       "      <td>Aetna</td>\n",
       "      <td>27955.096079</td>\n",
       "      <td>205</td>\n",
       "      <td>Emergency</td>\n",
       "      <td>2022-10-07</td>\n",
       "      <td>Aspirin</td>\n",
       "      <td>Normal</td>\n",
       "    </tr>\n",
       "    <tr>\n",
       "      <th>3</th>\n",
       "      <td>andrEw waTtS</td>\n",
       "      <td>28</td>\n",
       "      <td>Female</td>\n",
       "      <td>O+</td>\n",
       "      <td>Diabetes</td>\n",
       "      <td>2020-11-18</td>\n",
       "      <td>Kevin Wells</td>\n",
       "      <td>Hernandez Rogers and Vang,</td>\n",
       "      <td>Medicare</td>\n",
       "      <td>37909.782410</td>\n",
       "      <td>450</td>\n",
       "      <td>Elective</td>\n",
       "      <td>2020-12-18</td>\n",
       "      <td>Ibuprofen</td>\n",
       "      <td>Abnormal</td>\n",
       "    </tr>\n",
       "    <tr>\n",
       "      <th>4</th>\n",
       "      <td>adrIENNE bEll</td>\n",
       "      <td>43</td>\n",
       "      <td>Female</td>\n",
       "      <td>AB+</td>\n",
       "      <td>Cancer</td>\n",
       "      <td>2022-09-19</td>\n",
       "      <td>Kathleen Hanna</td>\n",
       "      <td>White-White</td>\n",
       "      <td>Aetna</td>\n",
       "      <td>14238.317814</td>\n",
       "      <td>458</td>\n",
       "      <td>Urgent</td>\n",
       "      <td>2022-10-09</td>\n",
       "      <td>Penicillin</td>\n",
       "      <td>Abnormal</td>\n",
       "    </tr>\n",
       "  </tbody>\n",
       "</table>\n",
       "</div>"
      ],
      "text/plain": [
       "            Name  Age  Gender Blood Type Medical Condition Date of Admission  \\\n",
       "0  Bobby JacksOn   30    Male         B-            Cancer        2024-01-31   \n",
       "1   LesLie TErRy   62    Male         A+           Obesity        2019-08-20   \n",
       "2    DaNnY sMitH   76  Female         A-           Obesity        2022-09-22   \n",
       "3   andrEw waTtS   28  Female         O+          Diabetes        2020-11-18   \n",
       "4  adrIENNE bEll   43  Female        AB+            Cancer        2022-09-19   \n",
       "\n",
       "             Doctor                    Hospital Insurance Provider  \\\n",
       "0     Matthew Smith             Sons and Miller         Blue Cross   \n",
       "1   Samantha Davies                     Kim Inc           Medicare   \n",
       "2  Tiffany Mitchell                    Cook PLC              Aetna   \n",
       "3       Kevin Wells  Hernandez Rogers and Vang,           Medicare   \n",
       "4    Kathleen Hanna                 White-White              Aetna   \n",
       "\n",
       "   Billing Amount  Room Number Admission Type Discharge Date   Medication  \\\n",
       "0    18856.281306          328         Urgent     2024-02-02  Paracetamol   \n",
       "1    33643.327287          265      Emergency     2019-08-26    Ibuprofen   \n",
       "2    27955.096079          205      Emergency     2022-10-07      Aspirin   \n",
       "3    37909.782410          450       Elective     2020-12-18    Ibuprofen   \n",
       "4    14238.317814          458         Urgent     2022-10-09   Penicillin   \n",
       "\n",
       "   Test Results  \n",
       "0        Normal  \n",
       "1  Inconclusive  \n",
       "2        Normal  \n",
       "3      Abnormal  \n",
       "4      Abnormal  "
      ]
     },
     "execution_count": 2,
     "metadata": {},
     "output_type": "execute_result"
    }
   ],
   "source": [
    "data = pd.read_csv(\"healthcare_dataset.csv\")\n",
    "\n",
    "data.head()"
   ]
  },
  {
   "cell_type": "code",
   "execution_count": 3,
   "metadata": {},
   "outputs": [
    {
     "data": {
      "text/plain": [
       "(55500, 15)"
      ]
     },
     "execution_count": 3,
     "metadata": {},
     "output_type": "execute_result"
    }
   ],
   "source": [
    "# Data shape before dropping duplicates \n",
    "\n",
    "data.shape"
   ]
  },
  {
   "cell_type": "code",
   "execution_count": 4,
   "metadata": {},
   "outputs": [],
   "source": [
    "# Drop duplicates \n",
    "\n",
    "df = data.drop_duplicates()"
   ]
  },
  {
   "cell_type": "code",
   "execution_count": 5,
   "metadata": {},
   "outputs": [
    {
     "data": {
      "text/plain": [
       "(54966, 15)"
      ]
     },
     "execution_count": 5,
     "metadata": {},
     "output_type": "execute_result"
    }
   ],
   "source": [
    "# Shape after duplicates \n",
    "\n",
    "df.shape"
   ]
  },
  {
   "cell_type": "code",
   "execution_count": 6,
   "metadata": {},
   "outputs": [],
   "source": [
    "# Save columns with correct data type \n",
    "\n",
    "df['Gender'] = df['Gender'].astype('string')\n",
    "df['Date of Admission'] = pd.to_datetime(df['Date of Admission'])\n",
    "df['Discharge Date'] = pd.to_datetime(df['Discharge Date'])\n",
    "df['Inpatient Days']= (df['Discharge Date'] - df['Date of Admission']).dt.days+1\n",
    "df[\"Admission Year\"]=df[\"Date of Admission\"].dt.year\n",
    "df[\"Admission Month\"]=df[\"Date of Admission\"].dt.month"
   ]
  },
  {
   "cell_type": "code",
   "execution_count": 7,
   "metadata": {},
   "outputs": [],
   "source": [
    "# Calculate per day Expense \n",
    "\n",
    "df = df[df['Billing Amount'] > 0]\n",
    "df[\"Per Day Amount\"]=df[\"Billing Amount\"]/df[\"Inpatient Days\"]\n",
    "df[\"Log Per Day Amount\"] = np.log(df[\"Per Day Amount\"])"
   ]
  },
  {
   "cell_type": "markdown",
   "metadata": {},
   "source": [
    "## Feature Selection "
   ]
  },
  {
   "cell_type": "code",
   "execution_count": 8,
   "metadata": {},
   "outputs": [],
   "source": [
    "other_variables = list(df.columns)  # Convert Index to a list\n",
    "other_variables.remove('Billing Amount')\n",
    "other_variables.remove('Per Day Amount')\n",
    "other_variables.remove('Log Per Day Amount')\n",
    "other_variables.remove('Inpatient Days')\n",
    "other_variables.remove('Admission Year')\n",
    "other_variables.remove('Admission Month')\n",
    "other_variables.remove('Room Number')\n",
    "other_variables.remove('Age')\n",
    "other_variables.remove('Name')\n",
    "\n",
    "independent_vars = ['Billing Amount']"
   ]
  },
  {
   "cell_type": "code",
   "execution_count": 9,
   "metadata": {},
   "outputs": [
    {
     "data": {
      "text/html": [
       "<div>\n",
       "<style scoped>\n",
       "    .dataframe tbody tr th:only-of-type {\n",
       "        vertical-align: middle;\n",
       "    }\n",
       "\n",
       "    .dataframe tbody tr th {\n",
       "        vertical-align: top;\n",
       "    }\n",
       "\n",
       "    .dataframe thead th {\n",
       "        text-align: right;\n",
       "    }\n",
       "</style>\n",
       "<table border=\"1\" class=\"dataframe\">\n",
       "  <thead>\n",
       "    <tr style=\"text-align: right;\">\n",
       "      <th></th>\n",
       "      <th>Variable Pair</th>\n",
       "      <th>Mutual Information</th>\n",
       "    </tr>\n",
       "  </thead>\n",
       "  <tbody>\n",
       "    <tr>\n",
       "      <th>0</th>\n",
       "      <td>(Billing Amount, Hospital)</td>\n",
       "      <td>0.102015</td>\n",
       "    </tr>\n",
       "    <tr>\n",
       "      <th>1</th>\n",
       "      <td>(Billing Amount, Doctor)</td>\n",
       "      <td>0.101942</td>\n",
       "    </tr>\n",
       "    <tr>\n",
       "      <th>2</th>\n",
       "      <td>(Billing Amount, Discharge Date)</td>\n",
       "      <td>0.099956</td>\n",
       "    </tr>\n",
       "    <tr>\n",
       "      <th>3</th>\n",
       "      <td>(Billing Amount, Date of Admission)</td>\n",
       "      <td>0.098602</td>\n",
       "    </tr>\n",
       "    <tr>\n",
       "      <th>4</th>\n",
       "      <td>(Billing Amount, Blood Type)</td>\n",
       "      <td>0.080415</td>\n",
       "    </tr>\n",
       "    <tr>\n",
       "      <th>5</th>\n",
       "      <td>(Billing Amount, Medical Condition)</td>\n",
       "      <td>0.065366</td>\n",
       "    </tr>\n",
       "    <tr>\n",
       "      <th>6</th>\n",
       "      <td>(Billing Amount, Medication)</td>\n",
       "      <td>0.065102</td>\n",
       "    </tr>\n",
       "    <tr>\n",
       "      <th>7</th>\n",
       "      <td>(Billing Amount, Insurance Provider)</td>\n",
       "      <td>0.061977</td>\n",
       "    </tr>\n",
       "    <tr>\n",
       "      <th>8</th>\n",
       "      <td>(Billing Amount, Admission Type)</td>\n",
       "      <td>0.048066</td>\n",
       "    </tr>\n",
       "    <tr>\n",
       "      <th>9</th>\n",
       "      <td>(Billing Amount, Test Results)</td>\n",
       "      <td>0.046839</td>\n",
       "    </tr>\n",
       "    <tr>\n",
       "      <th>10</th>\n",
       "      <td>(Billing Amount, Gender)</td>\n",
       "      <td>0.033834</td>\n",
       "    </tr>\n",
       "  </tbody>\n",
       "</table>\n",
       "</div>"
      ],
      "text/plain": [
       "                           Variable Pair  Mutual Information\n",
       "0             (Billing Amount, Hospital)            0.102015\n",
       "1               (Billing Amount, Doctor)            0.101942\n",
       "2       (Billing Amount, Discharge Date)            0.099956\n",
       "3    (Billing Amount, Date of Admission)            0.098602\n",
       "4           (Billing Amount, Blood Type)            0.080415\n",
       "5    (Billing Amount, Medical Condition)            0.065366\n",
       "6           (Billing Amount, Medication)            0.065102\n",
       "7   (Billing Amount, Insurance Provider)            0.061977\n",
       "8       (Billing Amount, Admission Type)            0.048066\n",
       "9         (Billing Amount, Test Results)            0.046839\n",
       "10              (Billing Amount, Gender)            0.033834"
      ]
     },
     "execution_count": 9,
     "metadata": {},
     "output_type": "execute_result"
    }
   ],
   "source": [
    "from sklearn.preprocessing import LabelEncoder\n",
    "\n",
    "# Function to calculate mutual information between two variables\n",
    "def calculate_mutual_info(X, y):\n",
    "    mi = mutual_info_regression(X, y)\n",
    "    return mi\n",
    "\n",
    "# Initialize a dictionary to store mutual information values\n",
    "mutual_info_dict = {}\n",
    "\n",
    "# Convert categorical variables in 'other_variables' to numeric\n",
    "encoded_data = data.copy()\n",
    "for col in other_variables:\n",
    "    if encoded_data[col].dtype == 'object':\n",
    "        encoded_data[col] = LabelEncoder().fit_transform(encoded_data[col])\n",
    "\n",
    "# Calculate mutual information for each pair of variables\n",
    "for var1 in independent_vars:\n",
    "    for var2 in other_variables:\n",
    "        X = encoded_data[[var1]]\n",
    "        y = encoded_data[var2]\n",
    "        mutual_info = calculate_mutual_info(X, y)\n",
    "        mutual_info_dict[(var1, var2)] = mutual_info[0]  # Get the scalar value\n",
    "\n",
    "# Convert the dictionary to a DataFrame for easier analysis\n",
    "mutual_info_df = pd.DataFrame(list(mutual_info_dict.items()), columns=['Variable Pair', 'Mutual Information'])\n",
    "\n",
    "# Display the results\n",
    "mutual_info_df = mutual_info_df.sort_values(by=\"Mutual Information\", ascending=False).reset_index(drop=True)\n",
    "\n",
    "# Display the sorted DataFrame\n",
    "mutual_info_df"
   ]
  },
  {
   "cell_type": "markdown",
   "metadata": {},
   "source": [
    "## Models "
   ]
  },
  {
   "cell_type": "code",
   "execution_count": 11,
   "metadata": {},
   "outputs": [],
   "source": [
    "df_new = df.drop(columns=['Name', 'Inpatient Days', 'Admission Year', 'Admission Month', 'Room Number', 'Age', 'Gender', 'Test Results', \n",
    "                                   'Admission Type', 'Insurance Provider', 'Medication', 'Medical Condition'])"
   ]
  },
  {
   "cell_type": "code",
   "execution_count": 13,
   "metadata": {},
   "outputs": [],
   "source": [
    "# Define the selected columns and target variable\n",
    "# selected_columns = ['Blood Type', 'Date of Admission', 'Doctor', 'Hospital',\n",
    "#                     'Per Day Amount', 'Log Per Day Amount']\n",
    "\n",
    "selected_columns = ['Blood Type', 'Discharge Date', 'Date of Admission', 'Doctor', 'Hospital']\n",
    "\n",
    "target = 'Billing Amount'\n",
    "\n",
    "# Encode categorical variables\n",
    "data_encoded = df_new.copy()\n",
    "for col in ['Blood Type', 'Doctor', 'Hospital']:\n",
    "    data_encoded[col] = LabelEncoder().fit_transform(data_encoded[col])\n",
    "\n",
    "# Convert dates to numerical features (e.g., timestamp)\n",
    "data_encoded['Date of Admission'] = pd.to_datetime(data_encoded['Date of Admission']).astype(int) / 10**9\n",
    "data_encoded['Discharge Date'] = pd.to_datetime(data_encoded['Discharge Date']).astype(int) / 10**9\n",
    "\n",
    "# Define features (X) and target (y)\n",
    "X = data_encoded[selected_columns]\n",
    "y = data_encoded[target]\n",
    "\n",
    "# Split data into training and test sets\n",
    "X_train, X_test, y_train, y_test = train_test_split(X, y, test_size=0.2, random_state=42)"
   ]
  },
  {
   "cell_type": "markdown",
   "metadata": {},
   "source": [
    "### Linear Regression"
   ]
  },
  {
   "cell_type": "code",
   "execution_count": 14,
   "metadata": {},
   "outputs": [
    {
     "name": "stdout",
     "output_type": "stream",
     "text": [
      "Linear Regression Performance:\n",
      "Mean Absolute Error (MAE): 12266.73\n",
      "Mean Squared Error (MSE): 200770197.60\n",
      "Root Mean Squared Error (RMSE): 14169.34\n",
      "R-squared (R²): -0.00\n",
      "\n",
      "Accuracy based on MAE (Linear Regression): 0.52\n",
      "Accuracy based on RMSE (Linear Regression): 0.45\n"
     ]
    }
   ],
   "source": [
    "linear_model = LinearRegression()\n",
    "linear_model.fit(X_train, y_train)\n",
    "y_pred_lr = linear_model.predict(X_test)\n",
    "\n",
    "\n",
    "# Evaluate Linear Regression\n",
    "mse_lr = mean_squared_error(y_test, y_pred_lr)\n",
    "mae_lr = mean_absolute_error(y_test, y_pred_lr)\n",
    "rmse_lr = mean_squared_error(y_test, y_pred_lr, squared=False)\n",
    "r2_lr = r2_score(y_test, y_pred_lr)\n",
    "\n",
    "mean_actual = y_test.mean()\n",
    "accuracy_mae = 1 - (mae_lr / mean_actual)\n",
    "accuracy_rmse = 1 - (rmse_lr / mean_actual)\n",
    "\n",
    "print(\"Linear Regression Performance:\")\n",
    "print(f\"Mean Absolute Error (MAE): {mae_lr:.2f}\")\n",
    "print(f\"Mean Squared Error (MSE): {mse_lr:.2f}\")\n",
    "print(f\"Root Mean Squared Error (RMSE): {rmse_lr:.2f}\")\n",
    "print(f\"R-squared (R²): {r2_lr:.2f}\")\n",
    "print(f\"\")\n",
    "print(f\"Accuracy based on MAE (Linear Regression): {accuracy_mae:.2f}\")\n",
    "print(f\"Accuracy based on RMSE (Linear Regression): {accuracy_rmse:.2f}\")"
   ]
  },
  {
   "cell_type": "markdown",
   "metadata": {},
   "source": [
    "### KNN"
   ]
  },
  {
   "cell_type": "code",
   "execution_count": 15,
   "metadata": {},
   "outputs": [
    {
     "name": "stdout",
     "output_type": "stream",
     "text": [
      "KNN Regression Performance:\n",
      "Mean Absolute Error (MAE): 12733.72\n",
      "Mean Squared Error (MSE): 228114134.16\n",
      "Root Mean Squared Error (RMSE): 15103.45\n",
      "R-squared (R²): -0.14\n",
      "\n",
      "Accuracy based on MAE (KNN): 0.50\n",
      "Accuracy based on RMSE (KNN): 0.41\n"
     ]
    }
   ],
   "source": [
    "# K-Nearest Neighbors Regression\n",
    "knn_model = KNeighborsRegressor(n_neighbors=6) \n",
    "knn_model.fit(X_train, y_train)\n",
    "y_pred_knn = knn_model.predict(X_test)\n",
    "\n",
    "# Evaluate K-Nearest Neighbors Regression\n",
    "mse_knn = mean_squared_error(y_test, y_pred_knn)\n",
    "mae_knn = mean_absolute_error(y_test, y_pred_knn)\n",
    "rmse_knn = mean_squared_error(y_test, y_pred_knn, squared=False)\n",
    "r2_knn = r2_score(y_test, y_pred_knn)\n",
    "\n",
    "mean_actual = y_test.mean()\n",
    "accuracy_mae_KNN = 1 - (mae_knn / mean_actual)\n",
    "accuracy_rmse_KNN = 1 - (rmse_knn / mean_actual)\n",
    "\n",
    "print(\"KNN Regression Performance:\")\n",
    "print(f\"Mean Absolute Error (MAE): {mae_knn:.2f}\")\n",
    "print(f\"Mean Squared Error (MSE): {mse_knn:.2f}\")\n",
    "print(f\"Root Mean Squared Error (RMSE): {rmse_knn:.2f}\")\n",
    "print(f\"R-squared (R²): {r2_knn:.2f}\")\n",
    "print(f\"\")\n",
    "print(f\"Accuracy based on MAE (KNN): {accuracy_mae_KNN:.2f}\")\n",
    "print(f\"Accuracy based on RMSE (KNN): {accuracy_rmse_KNN:.2f}\")\n",
    "\n",
    "\n"
   ]
  },
  {
   "cell_type": "markdown",
   "metadata": {},
   "source": [
    "### Random Forest"
   ]
  },
  {
   "cell_type": "code",
   "execution_count": 16,
   "metadata": {},
   "outputs": [
    {
     "name": "stdout",
     "output_type": "stream",
     "text": [
      "Random Forest Regression Performance:\n",
      "Mean Absolute Error (MAE): 11349.42\n",
      "Mean Squared Error (MSE): 186744683.33\n",
      "Root Mean Squared Error (RMSE): 13665.46\n",
      "R-squared (R²): 0.07\n",
      "\n",
      "Accuracy based on MAE (KNN): 0.56\n",
      "Accuracy based on RMSE (KNN): 0.46\n"
     ]
    }
   ],
   "source": [
    "# Random Forest Regression\n",
    "from sklearn.ensemble import RandomForestRegressor\n",
    "\n",
    "RF_model = RandomForestRegressor(n_estimators=100, random_state=42)\n",
    "RF_model.fit(X_train, y_train)\n",
    "y_pred_RF = RF_model.predict(X_test)\n",
    "\n",
    "# Evaluate K-Nearest Neighbors Regression\n",
    "mse_RF = mean_squared_error(y_test, y_pred_RF)\n",
    "mae_RF = mean_absolute_error(y_test, y_pred_RF)\n",
    "rmse_RF = mean_squared_error(y_test, y_pred_RF, squared=False)\n",
    "r2_RF = r2_score(y_test, y_pred_RF)\n",
    "\n",
    "mean_actual = y_test.mean()\n",
    "accuracy_mae_RF = 1 - (mae_RF / mean_actual)\n",
    "accuracy_rmse_RF = 1 - (rmse_RF / mean_actual)\n",
    "\n",
    "print(\"Random Forest Regression Performance:\")\n",
    "print(f\"Mean Absolute Error (MAE): {mae_RF:.2f}\")\n",
    "print(f\"Mean Squared Error (MSE): {mse_RF:.2f}\")\n",
    "print(f\"Root Mean Squared Error (RMSE): {rmse_RF:.2f}\")\n",
    "print(f\"R-squared (R²): {r2_RF:.2f}\")\n",
    "print(f\"\")\n",
    "print(f\"Accuracy based on MAE (KNN): {accuracy_mae_RF:.2f}\")\n",
    "print(f\"Accuracy based on RMSE (KNN): {accuracy_rmse_RF:.2f}\")"
   ]
  },
  {
   "cell_type": "markdown",
   "metadata": {},
   "source": [
    "### Gradient Boosting"
   ]
  },
  {
   "cell_type": "code",
   "execution_count": 17,
   "metadata": {},
   "outputs": [
    {
     "name": "stdout",
     "output_type": "stream",
     "text": [
      "Gradient Boosting Regression Performance:\n",
      "Mean Absolute Error (MAE): 12261.77\n",
      "Mean Squared Error (MSE): 200833725.16\n",
      "Root Mean Squared Error (RMSE): 14171.58\n",
      "R-squared (R²): -0.00\n",
      "\n",
      "Accuracy based on MAE (KNN): 0.52\n",
      "Accuracy based on RMSE (KNN): 0.45\n"
     ]
    }
   ],
   "source": [
    "# Gradient Boosting Regression\n",
    "from sklearn.ensemble import GradientBoostingRegressor\n",
    "\n",
    "GB_model = GradientBoostingRegressor(n_estimators=100, learning_rate=0.1, max_depth=3, random_state=42)\n",
    "GB_model.fit(X_train, y_train)\n",
    "y_pred_GB = GB_model.predict(X_test)\n",
    "\n",
    "# Evaluate K-Nearest Neighbors Regression\n",
    "mse_GB = mean_squared_error(y_test, y_pred_GB)\n",
    "mae_GB = mean_absolute_error(y_test, y_pred_GB)\n",
    "rmse_GB = mean_squared_error(y_test, y_pred_GB, squared=False)\n",
    "r2_GB = r2_score(y_test, y_pred_GB)\n",
    "\n",
    "mean_actual = y_test.mean()\n",
    "accuracy_mae_GB = 1 - (mae_GB / mean_actual)\n",
    "accuracy_rmse_GB = 1 - (rmse_GB / mean_actual)\n",
    "\n",
    "print(\"Gradient Boosting Regression Performance:\")\n",
    "print(f\"Mean Absolute Error (MAE): {mae_GB:.2f}\")\n",
    "print(f\"Mean Squared Error (MSE): {mse_GB:.2f}\")\n",
    "print(f\"Root Mean Squared Error (RMSE): {rmse_GB:.2f}\")\n",
    "print(f\"R-squared (R²): {r2_GB:.2f}\")\n",
    "print(f\"\")\n",
    "print(f\"Accuracy based on MAE (KNN): {accuracy_mae_GB:.2f}\")\n",
    "print(f\"Accuracy based on RMSE (KNN): {accuracy_rmse_GB:.2f}\")"
   ]
  },
  {
   "cell_type": "markdown",
   "metadata": {},
   "source": []
  },
  {
   "cell_type": "markdown",
   "metadata": {},
   "source": []
  },
  {
   "cell_type": "markdown",
   "metadata": {},
   "source": [
    "## Jin's Code"
   ]
  },
  {
   "cell_type": "code",
   "execution_count": 22,
   "metadata": {},
   "outputs": [],
   "source": [
    "df = df.drop(columns=[\"Name\",\"Date of Admission\",\"Doctor\",\"Room Number\",\"Discharge Date\",\"Hospital\",\"Doctor\"])"
   ]
  },
  {
   "cell_type": "code",
   "execution_count": 23,
   "metadata": {},
   "outputs": [
    {
     "data": {
      "text/html": [
       "<div>\n",
       "<style scoped>\n",
       "    .dataframe tbody tr th:only-of-type {\n",
       "        vertical-align: middle;\n",
       "    }\n",
       "\n",
       "    .dataframe tbody tr th {\n",
       "        vertical-align: top;\n",
       "    }\n",
       "\n",
       "    .dataframe thead th {\n",
       "        text-align: right;\n",
       "    }\n",
       "</style>\n",
       "<table border=\"1\" class=\"dataframe\">\n",
       "  <thead>\n",
       "    <tr style=\"text-align: right;\">\n",
       "      <th></th>\n",
       "      <th>Age</th>\n",
       "      <th>Gender</th>\n",
       "      <th>Blood Type</th>\n",
       "      <th>Medical Condition</th>\n",
       "      <th>Insurance Provider</th>\n",
       "      <th>Billing Amount</th>\n",
       "      <th>Admission Type</th>\n",
       "      <th>Medication</th>\n",
       "      <th>Test Results</th>\n",
       "      <th>Inpatient Days</th>\n",
       "      <th>Admission Year</th>\n",
       "      <th>Admission Month</th>\n",
       "      <th>Per Day Amount</th>\n",
       "      <th>Log Per Day Amount</th>\n",
       "    </tr>\n",
       "  </thead>\n",
       "  <tbody>\n",
       "    <tr>\n",
       "      <th>0</th>\n",
       "      <td>30</td>\n",
       "      <td>Male</td>\n",
       "      <td>B-</td>\n",
       "      <td>Cancer</td>\n",
       "      <td>Blue Cross</td>\n",
       "      <td>18856.281306</td>\n",
       "      <td>Urgent</td>\n",
       "      <td>Paracetamol</td>\n",
       "      <td>Normal</td>\n",
       "      <td>3</td>\n",
       "      <td>2024</td>\n",
       "      <td>1</td>\n",
       "      <td>6285.427102</td>\n",
       "      <td>8.745989</td>\n",
       "    </tr>\n",
       "    <tr>\n",
       "      <th>1</th>\n",
       "      <td>62</td>\n",
       "      <td>Male</td>\n",
       "      <td>A+</td>\n",
       "      <td>Obesity</td>\n",
       "      <td>Medicare</td>\n",
       "      <td>33643.327287</td>\n",
       "      <td>Emergency</td>\n",
       "      <td>Ibuprofen</td>\n",
       "      <td>Inconclusive</td>\n",
       "      <td>7</td>\n",
       "      <td>2019</td>\n",
       "      <td>8</td>\n",
       "      <td>4806.189612</td>\n",
       "      <td>8.477660</td>\n",
       "    </tr>\n",
       "    <tr>\n",
       "      <th>2</th>\n",
       "      <td>76</td>\n",
       "      <td>Female</td>\n",
       "      <td>A-</td>\n",
       "      <td>Obesity</td>\n",
       "      <td>Aetna</td>\n",
       "      <td>27955.096079</td>\n",
       "      <td>Emergency</td>\n",
       "      <td>Aspirin</td>\n",
       "      <td>Normal</td>\n",
       "      <td>16</td>\n",
       "      <td>2022</td>\n",
       "      <td>9</td>\n",
       "      <td>1747.193505</td>\n",
       "      <td>7.465766</td>\n",
       "    </tr>\n",
       "    <tr>\n",
       "      <th>3</th>\n",
       "      <td>28</td>\n",
       "      <td>Female</td>\n",
       "      <td>O+</td>\n",
       "      <td>Diabetes</td>\n",
       "      <td>Medicare</td>\n",
       "      <td>37909.782410</td>\n",
       "      <td>Elective</td>\n",
       "      <td>Ibuprofen</td>\n",
       "      <td>Abnormal</td>\n",
       "      <td>31</td>\n",
       "      <td>2020</td>\n",
       "      <td>11</td>\n",
       "      <td>1222.896207</td>\n",
       "      <td>7.108977</td>\n",
       "    </tr>\n",
       "    <tr>\n",
       "      <th>4</th>\n",
       "      <td>43</td>\n",
       "      <td>Female</td>\n",
       "      <td>AB+</td>\n",
       "      <td>Cancer</td>\n",
       "      <td>Aetna</td>\n",
       "      <td>14238.317814</td>\n",
       "      <td>Urgent</td>\n",
       "      <td>Penicillin</td>\n",
       "      <td>Abnormal</td>\n",
       "      <td>21</td>\n",
       "      <td>2022</td>\n",
       "      <td>9</td>\n",
       "      <td>678.015134</td>\n",
       "      <td>6.519170</td>\n",
       "    </tr>\n",
       "    <tr>\n",
       "      <th>...</th>\n",
       "      <td>...</td>\n",
       "      <td>...</td>\n",
       "      <td>...</td>\n",
       "      <td>...</td>\n",
       "      <td>...</td>\n",
       "      <td>...</td>\n",
       "      <td>...</td>\n",
       "      <td>...</td>\n",
       "      <td>...</td>\n",
       "      <td>...</td>\n",
       "      <td>...</td>\n",
       "      <td>...</td>\n",
       "      <td>...</td>\n",
       "      <td>...</td>\n",
       "    </tr>\n",
       "    <tr>\n",
       "      <th>55495</th>\n",
       "      <td>42</td>\n",
       "      <td>Female</td>\n",
       "      <td>O+</td>\n",
       "      <td>Asthma</td>\n",
       "      <td>Blue Cross</td>\n",
       "      <td>2650.714952</td>\n",
       "      <td>Elective</td>\n",
       "      <td>Penicillin</td>\n",
       "      <td>Abnormal</td>\n",
       "      <td>31</td>\n",
       "      <td>2020</td>\n",
       "      <td>8</td>\n",
       "      <td>85.506934</td>\n",
       "      <td>4.448597</td>\n",
       "    </tr>\n",
       "    <tr>\n",
       "      <th>55496</th>\n",
       "      <td>61</td>\n",
       "      <td>Female</td>\n",
       "      <td>AB-</td>\n",
       "      <td>Obesity</td>\n",
       "      <td>Cigna</td>\n",
       "      <td>31457.797307</td>\n",
       "      <td>Elective</td>\n",
       "      <td>Aspirin</td>\n",
       "      <td>Normal</td>\n",
       "      <td>10</td>\n",
       "      <td>2020</td>\n",
       "      <td>1</td>\n",
       "      <td>3145.779731</td>\n",
       "      <td>8.053817</td>\n",
       "    </tr>\n",
       "    <tr>\n",
       "      <th>55497</th>\n",
       "      <td>38</td>\n",
       "      <td>Female</td>\n",
       "      <td>B+</td>\n",
       "      <td>Hypertension</td>\n",
       "      <td>UnitedHealthcare</td>\n",
       "      <td>27620.764717</td>\n",
       "      <td>Urgent</td>\n",
       "      <td>Ibuprofen</td>\n",
       "      <td>Abnormal</td>\n",
       "      <td>29</td>\n",
       "      <td>2020</td>\n",
       "      <td>7</td>\n",
       "      <td>952.440163</td>\n",
       "      <td>6.859027</td>\n",
       "    </tr>\n",
       "    <tr>\n",
       "      <th>55498</th>\n",
       "      <td>43</td>\n",
       "      <td>Male</td>\n",
       "      <td>O-</td>\n",
       "      <td>Arthritis</td>\n",
       "      <td>Medicare</td>\n",
       "      <td>32451.092358</td>\n",
       "      <td>Elective</td>\n",
       "      <td>Ibuprofen</td>\n",
       "      <td>Abnormal</td>\n",
       "      <td>7</td>\n",
       "      <td>2019</td>\n",
       "      <td>5</td>\n",
       "      <td>4635.870337</td>\n",
       "      <td>8.441579</td>\n",
       "    </tr>\n",
       "    <tr>\n",
       "      <th>55499</th>\n",
       "      <td>53</td>\n",
       "      <td>Female</td>\n",
       "      <td>O+</td>\n",
       "      <td>Arthritis</td>\n",
       "      <td>Aetna</td>\n",
       "      <td>4010.134172</td>\n",
       "      <td>Urgent</td>\n",
       "      <td>Ibuprofen</td>\n",
       "      <td>Abnormal</td>\n",
       "      <td>28</td>\n",
       "      <td>2024</td>\n",
       "      <td>4</td>\n",
       "      <td>143.219078</td>\n",
       "      <td>4.964375</td>\n",
       "    </tr>\n",
       "  </tbody>\n",
       "</table>\n",
       "<p>54860 rows × 14 columns</p>\n",
       "</div>"
      ],
      "text/plain": [
       "       Age  Gender Blood Type Medical Condition Insurance Provider  \\\n",
       "0       30    Male         B-            Cancer         Blue Cross   \n",
       "1       62    Male         A+           Obesity           Medicare   \n",
       "2       76  Female         A-           Obesity              Aetna   \n",
       "3       28  Female         O+          Diabetes           Medicare   \n",
       "4       43  Female        AB+            Cancer              Aetna   \n",
       "...    ...     ...        ...               ...                ...   \n",
       "55495   42  Female         O+            Asthma         Blue Cross   \n",
       "55496   61  Female        AB-           Obesity              Cigna   \n",
       "55497   38  Female         B+      Hypertension   UnitedHealthcare   \n",
       "55498   43    Male         O-         Arthritis           Medicare   \n",
       "55499   53  Female         O+         Arthritis              Aetna   \n",
       "\n",
       "       Billing Amount Admission Type   Medication  Test Results  \\\n",
       "0        18856.281306         Urgent  Paracetamol        Normal   \n",
       "1        33643.327287      Emergency    Ibuprofen  Inconclusive   \n",
       "2        27955.096079      Emergency      Aspirin        Normal   \n",
       "3        37909.782410       Elective    Ibuprofen      Abnormal   \n",
       "4        14238.317814         Urgent   Penicillin      Abnormal   \n",
       "...               ...            ...          ...           ...   \n",
       "55495     2650.714952       Elective   Penicillin      Abnormal   \n",
       "55496    31457.797307       Elective      Aspirin        Normal   \n",
       "55497    27620.764717         Urgent    Ibuprofen      Abnormal   \n",
       "55498    32451.092358       Elective    Ibuprofen      Abnormal   \n",
       "55499     4010.134172         Urgent    Ibuprofen      Abnormal   \n",
       "\n",
       "       Inpatient Days  Admission Year  Admission Month  Per Day Amount  \\\n",
       "0                   3            2024                1     6285.427102   \n",
       "1                   7            2019                8     4806.189612   \n",
       "2                  16            2022                9     1747.193505   \n",
       "3                  31            2020               11     1222.896207   \n",
       "4                  21            2022                9      678.015134   \n",
       "...               ...             ...              ...             ...   \n",
       "55495              31            2020                8       85.506934   \n",
       "55496              10            2020                1     3145.779731   \n",
       "55497              29            2020                7      952.440163   \n",
       "55498               7            2019                5     4635.870337   \n",
       "55499              28            2024                4      143.219078   \n",
       "\n",
       "       Log Per Day Amount  \n",
       "0                8.745989  \n",
       "1                8.477660  \n",
       "2                7.465766  \n",
       "3                7.108977  \n",
       "4                6.519170  \n",
       "...                   ...  \n",
       "55495            4.448597  \n",
       "55496            8.053817  \n",
       "55497            6.859027  \n",
       "55498            8.441579  \n",
       "55499            4.964375  \n",
       "\n",
       "[54860 rows x 14 columns]"
      ]
     },
     "execution_count": 23,
     "metadata": {},
     "output_type": "execute_result"
    }
   ],
   "source": [
    "df"
   ]
  },
  {
   "cell_type": "code",
   "execution_count": 9,
   "metadata": {},
   "outputs": [],
   "source": [
    "df_cat = pd.DataFrame(data = df.dtypes, columns = ['a']).reset_index()\n",
    "cat_var = list(df_cat['index'].loc[df_cat['a'] == 'object'])\n",
    "df_cat = df[cat_var]"
   ]
  },
  {
   "cell_type": "code",
   "execution_count": 10,
   "metadata": {},
   "outputs": [
    {
     "data": {
      "text/plain": [
       "['Gender',\n",
       " 'Blood Type',\n",
       " 'Medical Condition',\n",
       " 'Insurance Provider',\n",
       " 'Admission Type',\n",
       " 'Medication',\n",
       " 'Test Results']"
      ]
     },
     "execution_count": 10,
     "metadata": {},
     "output_type": "execute_result"
    }
   ],
   "source": [
    "cat_var"
   ]
  },
  {
   "cell_type": "code",
   "execution_count": 11,
   "metadata": {},
   "outputs": [],
   "source": [
    "x_var = ['Gender',\n",
    " 'Blood Type',\n",
    " 'Medical Condition',\n",
    " 'Insurance Provider',\n",
    " 'Admission Type',\n",
    " 'Medication',\n",
    " 'Test Results',\n",
    " 'Age',\n",
    " 'Inpatient Days',\n",
    " 'Admission Month']"
   ]
  },
  {
   "cell_type": "code",
   "execution_count": 12,
   "metadata": {},
   "outputs": [
    {
     "data": {
      "text/plain": [
       "<function matplotlib.pyplot.show(close=None, block=None)>"
      ]
     },
     "execution_count": 12,
     "metadata": {},
     "output_type": "execute_result"
    },
    {
     "data": {
      "image/png": "[encoded data removed]",
      "text/plain": [
       "<Figure size 640x480 with 1 Axes>"
      ]
     },
     "metadata": {},
     "output_type": "display_data"
    }
   ],
   "source": [
    "plt.hist(df[\"Log Per Day Amount\"], bins=100)\n",
    "plt.xlabel('Value')\n",
    "plt.ylabel('Frequency')\n",
    "plt.title('Histogram of Log Per Day Amount')\n",
    "plt.show"
   ]
  },
  {
   "cell_type": "code",
   "execution_count": 13,
   "metadata": {},
   "outputs": [
    {
     "data": {
      "text/plain": [
       "<function matplotlib.pyplot.show(close=None, block=None)>"
      ]
     },
     "execution_count": 13,
     "metadata": {},
     "output_type": "execute_result"
    },
    {
     "data": {
      "image/png": "[encoded data removed]",
      "text/plain": [
       "<Figure size 640x480 with 1 Axes>"
      ]
     },
     "metadata": {},
     "output_type": "display_data"
    }
   ],
   "source": [
    "\n",
    "plt.hist(df[\"Per Day Amount\"], bins=100)\n",
    "plt.xlabel('Value')\n",
    "plt.ylabel('Frequency')\n",
    "plt.title('Histogram of Per Day Amount')\n",
    "plt.show"
   ]
  },
  {
   "cell_type": "code",
   "execution_count": 14,
   "metadata": {},
   "outputs": [
    {
     "data": {
      "image/png": "[encoded data removed]",
      "text/plain": [
       "<Figure size 640x480 with 1 Axes>"
      ]
     },
     "metadata": {},
     "output_type": "display_data"
    }
   ],
   "source": [
    "plt.hist(df[\"Billing Amount\"], bins=100)\n",
    "plt.xlabel('Value')\n",
    "plt.ylabel('Frequency')\n",
    "plt.title('Histogram of Billing Amount')\n",
    "plt.show()"
   ]
  },
  {
   "cell_type": "code",
   "execution_count": 17,
   "metadata": {},
   "outputs": [],
   "source": [
    "# Turn Per day Amount into category\n",
    "bins = [0,500,1000,2000,3000,4000,5000,7500,10000]\n",
    "df['Amount Group'] = np.digitize(df[\"Per Day Amount\"], bins)"
   ]
  },
  {
   "cell_type": "code",
   "execution_count": 18,
   "metadata": {},
   "outputs": [],
   "source": [
    "Y=df['Amount Group']"
   ]
  },
  {
   "cell_type": "code",
   "execution_count": 19,
   "metadata": {},
   "outputs": [
    {
     "name": "stderr",
     "output_type": "stream",
     "text": [
      "/var/folders/z1/90rjsj_j4t53rc9v54dnwpq00000gp/T/ipykernel_41247/977980751.py:4: SettingWithCopyWarning: \n",
      "A value is trying to be set on a copy of a slice from a DataFrame.\n",
      "Try using .loc[row_indexer,col_indexer] = value instead\n",
      "\n",
      "See the caveats in the documentation: https://pandas.pydata.org/pandas-docs/stable/user_guide/indexing.html#returning-a-view-versus-a-copy\n",
      "  df_cat[col] = label_encoder.fit_transform(df_cat[col])\n",
      "/var/folders/z1/90rjsj_j4t53rc9v54dnwpq00000gp/T/ipykernel_41247/977980751.py:4: SettingWithCopyWarning: \n",
      "A value is trying to be set on a copy of a slice from a DataFrame.\n",
      "Try using .loc[row_indexer,col_indexer] = value instead\n",
      "\n",
      "See the caveats in the documentation: https://pandas.pydata.org/pandas-docs/stable/user_guide/indexing.html#returning-a-view-versus-a-copy\n",
      "  df_cat[col] = label_encoder.fit_transform(df_cat[col])\n",
      "/var/folders/z1/90rjsj_j4t53rc9v54dnwpq00000gp/T/ipykernel_41247/977980751.py:4: SettingWithCopyWarning: \n",
      "A value is trying to be set on a copy of a slice from a DataFrame.\n",
      "Try using .loc[row_indexer,col_indexer] = value instead\n",
      "\n",
      "See the caveats in the documentation: https://pandas.pydata.org/pandas-docs/stable/user_guide/indexing.html#returning-a-view-versus-a-copy\n",
      "  df_cat[col] = label_encoder.fit_transform(df_cat[col])\n",
      "/var/folders/z1/90rjsj_j4t53rc9v54dnwpq00000gp/T/ipykernel_41247/977980751.py:4: SettingWithCopyWarning: \n",
      "A value is trying to be set on a copy of a slice from a DataFrame.\n",
      "Try using .loc[row_indexer,col_indexer] = value instead\n",
      "\n",
      "See the caveats in the documentation: https://pandas.pydata.org/pandas-docs/stable/user_guide/indexing.html#returning-a-view-versus-a-copy\n",
      "  df_cat[col] = label_encoder.fit_transform(df_cat[col])\n",
      "/var/folders/z1/90rjsj_j4t53rc9v54dnwpq00000gp/T/ipykernel_41247/977980751.py:4: SettingWithCopyWarning: \n",
      "A value is trying to be set on a copy of a slice from a DataFrame.\n",
      "Try using .loc[row_indexer,col_indexer] = value instead\n",
      "\n",
      "See the caveats in the documentation: https://pandas.pydata.org/pandas-docs/stable/user_guide/indexing.html#returning-a-view-versus-a-copy\n",
      "  df_cat[col] = label_encoder.fit_transform(df_cat[col])\n",
      "/var/folders/z1/90rjsj_j4t53rc9v54dnwpq00000gp/T/ipykernel_41247/977980751.py:4: SettingWithCopyWarning: \n",
      "A value is trying to be set on a copy of a slice from a DataFrame.\n",
      "Try using .loc[row_indexer,col_indexer] = value instead\n",
      "\n",
      "See the caveats in the documentation: https://pandas.pydata.org/pandas-docs/stable/user_guide/indexing.html#returning-a-view-versus-a-copy\n",
      "  df_cat[col] = label_encoder.fit_transform(df_cat[col])\n",
      "/var/folders/z1/90rjsj_j4t53rc9v54dnwpq00000gp/T/ipykernel_41247/977980751.py:4: SettingWithCopyWarning: \n",
      "A value is trying to be set on a copy of a slice from a DataFrame.\n",
      "Try using .loc[row_indexer,col_indexer] = value instead\n",
      "\n",
      "See the caveats in the documentation: https://pandas.pydata.org/pandas-docs/stable/user_guide/indexing.html#returning-a-view-versus-a-copy\n",
      "  df_cat[col] = label_encoder.fit_transform(df_cat[col])\n"
     ]
    }
   ],
   "source": [
    "label_encoder = LabelEncoder()\n",
    "\n",
    "for col in cat_var:\n",
    "    df_cat[col] = label_encoder.fit_transform(df_cat[col])"
   ]
  },
  {
   "cell_type": "code",
   "execution_count": 20,
   "metadata": {},
   "outputs": [],
   "source": [
    "X_final = df_cat"
   ]
  },
  {
   "cell_type": "code",
   "execution_count": 21,
   "metadata": {},
   "outputs": [],
   "source": [
    "inpatient_day = df['Inpatient Days']\n",
    "age = df['Age']\n",
    "month = df[\"Admission Month\"]"
   ]
  },
  {
   "cell_type": "code",
   "execution_count": 22,
   "metadata": {},
   "outputs": [
    {
     "name": "stderr",
     "output_type": "stream",
     "text": [
      "/var/folders/z1/90rjsj_j4t53rc9v54dnwpq00000gp/T/ipykernel_41247/3064364617.py:1: SettingWithCopyWarning: \n",
      "A value is trying to be set on a copy of a slice from a DataFrame.\n",
      "Try using .loc[row_indexer,col_indexer] = value instead\n",
      "\n",
      "See the caveats in the documentation: https://pandas.pydata.org/pandas-docs/stable/user_guide/indexing.html#returning-a-view-versus-a-copy\n",
      "  X_final['Inpatient Days'] = inpatient_day\n",
      "/var/folders/z1/90rjsj_j4t53rc9v54dnwpq00000gp/T/ipykernel_41247/3064364617.py:2: SettingWithCopyWarning: \n",
      "A value is trying to be set on a copy of a slice from a DataFrame.\n",
      "Try using .loc[row_indexer,col_indexer] = value instead\n",
      "\n",
      "See the caveats in the documentation: https://pandas.pydata.org/pandas-docs/stable/user_guide/indexing.html#returning-a-view-versus-a-copy\n",
      "  X_final['Age'] = age\n",
      "/var/folders/z1/90rjsj_j4t53rc9v54dnwpq00000gp/T/ipykernel_41247/3064364617.py:3: SettingWithCopyWarning: \n",
      "A value is trying to be set on a copy of a slice from a DataFrame.\n",
      "Try using .loc[row_indexer,col_indexer] = value instead\n",
      "\n",
      "See the caveats in the documentation: https://pandas.pydata.org/pandas-docs/stable/user_guide/indexing.html#returning-a-view-versus-a-copy\n",
      "  X_final['Admission Month']=month\n"
     ]
    }
   ],
   "source": [
    "X_final['Inpatient Days'] = inpatient_day\n",
    "X_final['Age'] = age \n",
    "X_final['Admission Month']=month"
   ]
  },
  {
   "cell_type": "code",
   "execution_count": 23,
   "metadata": {},
   "outputs": [
    {
     "data": {
      "text/html": [
       "<div>\n",
       "<style scoped>\n",
       "    .dataframe tbody tr th:only-of-type {\n",
       "        vertical-align: middle;\n",
       "    }\n",
       "\n",
       "    .dataframe tbody tr th {\n",
       "        vertical-align: top;\n",
       "    }\n",
       "\n",
       "    .dataframe thead th {\n",
       "        text-align: right;\n",
       "    }\n",
       "</style>\n",
       "<table border=\"1\" class=\"dataframe\">\n",
       "  <thead>\n",
       "    <tr style=\"text-align: right;\">\n",
       "      <th></th>\n",
       "      <th>Gender</th>\n",
       "      <th>Blood Type</th>\n",
       "      <th>Medical Condition</th>\n",
       "      <th>Insurance Provider</th>\n",
       "      <th>Admission Type</th>\n",
       "      <th>Medication</th>\n",
       "      <th>Test Results</th>\n",
       "      <th>Inpatient Days</th>\n",
       "      <th>Age</th>\n",
       "      <th>Admission Month</th>\n",
       "    </tr>\n",
       "  </thead>\n",
       "  <tbody>\n",
       "    <tr>\n",
       "      <th>0</th>\n",
       "      <td>1</td>\n",
       "      <td>5</td>\n",
       "      <td>2</td>\n",
       "      <td>1</td>\n",
       "      <td>2</td>\n",
       "      <td>3</td>\n",
       "      <td>2</td>\n",
       "      <td>3</td>\n",
       "      <td>30</td>\n",
       "      <td>1</td>\n",
       "    </tr>\n",
       "    <tr>\n",
       "      <th>1</th>\n",
       "      <td>1</td>\n",
       "      <td>0</td>\n",
       "      <td>5</td>\n",
       "      <td>3</td>\n",
       "      <td>1</td>\n",
       "      <td>1</td>\n",
       "      <td>1</td>\n",
       "      <td>7</td>\n",
       "      <td>62</td>\n",
       "      <td>8</td>\n",
       "    </tr>\n",
       "    <tr>\n",
       "      <th>2</th>\n",
       "      <td>0</td>\n",
       "      <td>1</td>\n",
       "      <td>5</td>\n",
       "      <td>0</td>\n",
       "      <td>1</td>\n",
       "      <td>0</td>\n",
       "      <td>2</td>\n",
       "      <td>16</td>\n",
       "      <td>76</td>\n",
       "      <td>9</td>\n",
       "    </tr>\n",
       "    <tr>\n",
       "      <th>3</th>\n",
       "      <td>0</td>\n",
       "      <td>6</td>\n",
       "      <td>3</td>\n",
       "      <td>3</td>\n",
       "      <td>0</td>\n",
       "      <td>1</td>\n",
       "      <td>0</td>\n",
       "      <td>31</td>\n",
       "      <td>28</td>\n",
       "      <td>11</td>\n",
       "    </tr>\n",
       "    <tr>\n",
       "      <th>4</th>\n",
       "      <td>0</td>\n",
       "      <td>2</td>\n",
       "      <td>2</td>\n",
       "      <td>0</td>\n",
       "      <td>2</td>\n",
       "      <td>4</td>\n",
       "      <td>0</td>\n",
       "      <td>21</td>\n",
       "      <td>43</td>\n",
       "      <td>9</td>\n",
       "    </tr>\n",
       "    <tr>\n",
       "      <th>...</th>\n",
       "      <td>...</td>\n",
       "      <td>...</td>\n",
       "      <td>...</td>\n",
       "      <td>...</td>\n",
       "      <td>...</td>\n",
       "      <td>...</td>\n",
       "      <td>...</td>\n",
       "      <td>...</td>\n",
       "      <td>...</td>\n",
       "      <td>...</td>\n",
       "    </tr>\n",
       "    <tr>\n",
       "      <th>55495</th>\n",
       "      <td>0</td>\n",
       "      <td>6</td>\n",
       "      <td>1</td>\n",
       "      <td>1</td>\n",
       "      <td>0</td>\n",
       "      <td>4</td>\n",
       "      <td>0</td>\n",
       "      <td>31</td>\n",
       "      <td>42</td>\n",
       "      <td>8</td>\n",
       "    </tr>\n",
       "    <tr>\n",
       "      <th>55496</th>\n",
       "      <td>0</td>\n",
       "      <td>3</td>\n",
       "      <td>5</td>\n",
       "      <td>2</td>\n",
       "      <td>0</td>\n",
       "      <td>0</td>\n",
       "      <td>2</td>\n",
       "      <td>10</td>\n",
       "      <td>61</td>\n",
       "      <td>1</td>\n",
       "    </tr>\n",
       "    <tr>\n",
       "      <th>55497</th>\n",
       "      <td>0</td>\n",
       "      <td>4</td>\n",
       "      <td>4</td>\n",
       "      <td>4</td>\n",
       "      <td>2</td>\n",
       "      <td>1</td>\n",
       "      <td>0</td>\n",
       "      <td>29</td>\n",
       "      <td>38</td>\n",
       "      <td>7</td>\n",
       "    </tr>\n",
       "    <tr>\n",
       "      <th>55498</th>\n",
       "      <td>1</td>\n",
       "      <td>7</td>\n",
       "      <td>0</td>\n",
       "      <td>3</td>\n",
       "      <td>0</td>\n",
       "      <td>1</td>\n",
       "      <td>0</td>\n",
       "      <td>7</td>\n",
       "      <td>43</td>\n",
       "      <td>5</td>\n",
       "    </tr>\n",
       "    <tr>\n",
       "      <th>55499</th>\n",
       "      <td>0</td>\n",
       "      <td>6</td>\n",
       "      <td>0</td>\n",
       "      <td>0</td>\n",
       "      <td>2</td>\n",
       "      <td>1</td>\n",
       "      <td>0</td>\n",
       "      <td>28</td>\n",
       "      <td>53</td>\n",
       "      <td>4</td>\n",
       "    </tr>\n",
       "  </tbody>\n",
       "</table>\n",
       "<p>54860 rows × 10 columns</p>\n",
       "</div>"
      ],
      "text/plain": [
       "       Gender  Blood Type  Medical Condition  Insurance Provider  \\\n",
       "0           1           5                  2                   1   \n",
       "1           1           0                  5                   3   \n",
       "2           0           1                  5                   0   \n",
       "3           0           6                  3                   3   \n",
       "4           0           2                  2                   0   \n",
       "...       ...         ...                ...                 ...   \n",
       "55495       0           6                  1                   1   \n",
       "55496       0           3                  5                   2   \n",
       "55497       0           4                  4                   4   \n",
       "55498       1           7                  0                   3   \n",
       "55499       0           6                  0                   0   \n",
       "\n",
       "       Admission Type  Medication  Test Results  Inpatient Days  Age  \\\n",
       "0                   2           3             2               3   30   \n",
       "1                   1           1             1               7   62   \n",
       "2                   1           0             2              16   76   \n",
       "3                   0           1             0              31   28   \n",
       "4                   2           4             0              21   43   \n",
       "...               ...         ...           ...             ...  ...   \n",
       "55495               0           4             0              31   42   \n",
       "55496               0           0             2              10   61   \n",
       "55497               2           1             0              29   38   \n",
       "55498               0           1             0               7   43   \n",
       "55499               2           1             0              28   53   \n",
       "\n",
       "       Admission Month  \n",
       "0                    1  \n",
       "1                    8  \n",
       "2                    9  \n",
       "3                   11  \n",
       "4                    9  \n",
       "...                ...  \n",
       "55495                8  \n",
       "55496                1  \n",
       "55497                7  \n",
       "55498                5  \n",
       "55499                4  \n",
       "\n",
       "[54860 rows x 10 columns]"
      ]
     },
     "execution_count": 23,
     "metadata": {},
     "output_type": "execute_result"
    }
   ],
   "source": [
    "X_final"
   ]
  },
  {
   "cell_type": "code",
   "execution_count": 24,
   "metadata": {},
   "outputs": [],
   "source": [
    "# Splitting the dataset into training and testing sets\n",
    "xtrain, xtest, ytrain, ytest = train_test_split(X_final, Y, test_size=0.2, random_state=42)"
   ]
  },
  {
   "cell_type": "code",
   "execution_count": 25,
   "metadata": {},
   "outputs": [
    {
     "name": "stdout",
     "output_type": "stream",
     "text": [
      "Training accuracy for Logistic Regression:  0.34111830113014946\n",
      "Testing accuracy for Logistic Regression:  0.3487969376594969\n"
     ]
    },
    {
     "data": {
      "image/png": "[encoded data removed]",
      "text/plain": [
       "<Figure size 640x480 with 2 Axes>"
      ]
     },
     "metadata": {},
     "output_type": "display_data"
    },
    {
     "name": "stdout",
     "output_type": "stream",
     "text": [
      "              precision    recall  f1-score   support\n",
      "\n",
      "           1       0.00      0.00      0.00      1636\n",
      "           2       0.00      0.00      0.00      1783\n",
      "           3       0.37      0.93      0.53      3409\n",
      "           4       0.14      0.12      0.13      1536\n",
      "           5       0.00      0.00      0.00       747\n",
      "           6       0.00      0.00      0.00       447\n",
      "           7       0.20      0.15      0.17       625\n",
      "           8       0.00      0.00      0.00       323\n",
      "           9       0.51      0.83      0.63       466\n",
      "\n",
      "    accuracy                           0.35     10972\n",
      "   macro avg       0.14      0.23      0.16     10972\n",
      "weighted avg       0.17      0.35      0.22     10972\n",
      "\n"
     ]
    },
    {
     "name": "stderr",
     "output_type": "stream",
     "text": [
      "/Users/andrea.tardif/anaconda3/lib/python3.11/site-packages/sklearn/metrics/_classification.py:1469: UndefinedMetricWarning: Precision and F-score are ill-defined and being set to 0.0 in labels with no predicted samples. Use `zero_division` parameter to control this behavior.\n",
      "  _warn_prf(average, modifier, msg_start, len(result))\n",
      "/Users/andrea.tardif/anaconda3/lib/python3.11/site-packages/sklearn/metrics/_classification.py:1469: UndefinedMetricWarning: Precision and F-score are ill-defined and being set to 0.0 in labels with no predicted samples. Use `zero_division` parameter to control this behavior.\n",
      "  _warn_prf(average, modifier, msg_start, len(result))\n",
      "/Users/andrea.tardif/anaconda3/lib/python3.11/site-packages/sklearn/metrics/_classification.py:1469: UndefinedMetricWarning: Precision and F-score are ill-defined and being set to 0.0 in labels with no predicted samples. Use `zero_division` parameter to control this behavior.\n",
      "  _warn_prf(average, modifier, msg_start, len(result))\n"
     ]
    }
   ],
   "source": [
    "#Logistic Regression\n",
    "LOG = LogisticRegression(max_iter=200,solver='liblinear').fit(xtrain, ytrain) \n",
    "\n",
    "#training error\n",
    "log_ypred_train = LOG.predict(xtrain)\n",
    "log_train_acct=metrics.accuracy_score(ytrain, log_ypred_train)\n",
    "print(\"Training accuracy for Logistic Regression: \",log_train_acct)\n",
    "\n",
    "#testing error\n",
    "log_ypred_test = LOG.predict(xtest)\n",
    "log_test_acct=metrics.accuracy_score(ytest, log_ypred_test)\n",
    "print(\"Testing accuracy for Logistic Regression: \",log_test_acct)\n",
    "\n",
    "#confusion matrix \n",
    "LOG_Confu = confusion_matrix(ytest, log_ypred_test)\n",
    "cmtx = confusion_matrix(ytest, log_ypred_test, labels=LOG.classes_)\n",
    "disp = ConfusionMatrixDisplay(confusion_matrix=cmtx,display_labels=LOG.classes_)\n",
    "disp.plot()\n",
    "plt.title(\"Logistic Confustion Matrix\")\n",
    "plt.savefig(\"Log.jpg\")\n",
    "plt.show()\n",
    "\n",
    "\n",
    "#precision recall F-1 score\n",
    "print(classification_report(ytest, log_ypred_test))"
   ]
  },
  {
   "cell_type": "code",
   "execution_count": 26,
   "metadata": {},
   "outputs": [
    {
     "data": {
      "image/png": "[encoded data removed]",
      "text/plain": [
       "<Figure size 640x480 with 1 Axes>"
      ]
     },
     "metadata": {},
     "output_type": "display_data"
    }
   ],
   "source": [
    "#KNN\n",
    "#tune k\n",
    "N_acct=[]\n",
    "N_K=[]\n",
    "\n",
    "for i in range(1,10):\n",
    "    KNN = KNeighborsClassifier(n_neighbors=i)\n",
    "    KNN.fit(xtrain, ytrain)\n",
    "    N_K.append(i)\n",
    "    ypred_test =KNN.predict(xtest)\n",
    "    N_acct.append(metrics.accuracy_score(ytest, ypred_test))  \n",
    "plt.plot(N_K,N_acct)\n",
    "plt.title(\"KNN Accuracy with Different K\")\n",
    "plt.savefig(\"knnk.jpg\")"
   ]
  },
  {
   "cell_type": "code",
   "execution_count": 27,
   "metadata": {},
   "outputs": [
    {
     "name": "stdout",
     "output_type": "stream",
     "text": [
      "Training accuracy for KNN:  0.5617936565803865\n",
      "Testing accuracy for KNN:  0.28408676631425445\n"
     ]
    },
    {
     "data": {
      "image/png": "[encoded data removed]",
      "text/plain": [
       "<Figure size 640x480 with 2 Axes>"
      ]
     },
     "metadata": {},
     "output_type": "display_data"
    },
    {
     "name": "stdout",
     "output_type": "stream",
     "text": [
      "              precision    recall  f1-score   support\n",
      "\n",
      "           1       0.21      0.27      0.24      1636\n",
      "           2       0.22      0.25      0.23      1783\n",
      "           3       0.38      0.40      0.39      3409\n",
      "           4       0.23      0.19      0.21      1536\n",
      "           5       0.20      0.15      0.17       747\n",
      "           6       0.17      0.10      0.13       447\n",
      "           7       0.25      0.22      0.24       625\n",
      "           8       0.26      0.18      0.21       323\n",
      "           9       0.49      0.49      0.49       466\n",
      "\n",
      "    accuracy                           0.28     10972\n",
      "   macro avg       0.27      0.25      0.26     10972\n",
      "weighted avg       0.28      0.28      0.28     10972\n",
      "\n"
     ]
    }
   ],
   "source": [
    "#k = 4 has the highst accuracy \n",
    "KNN = KNeighborsClassifier(n_neighbors=4)\n",
    "KNN.fit(xtrain, ytrain)\n",
    "\n",
    "# traning error\n",
    "knn_ypred_train = KNN.predict(xtrain)\n",
    "knn_train_acct=metrics.accuracy_score(ytrain, knn_ypred_train)\n",
    "print(\"Training accuracy for KNN: \",knn_train_acct)\n",
    "\n",
    "\n",
    "#testing error\n",
    "knn_ypred_test =KNN.predict(xtest)\n",
    "knn_test_acct=metrics.accuracy_score(ytest, knn_ypred_test)\n",
    "print(\"Testing accuracy for KNN: \",knn_test_acct)\n",
    "\n",
    "#confusion matrix \n",
    "KNN_Confu = confusion_matrix(ytest, knn_ypred_test)\n",
    "cmtx = confusion_matrix(ytest, knn_ypred_test, labels=KNN.classes_)\n",
    "disp = ConfusionMatrixDisplay(confusion_matrix=cmtx, display_labels=KNN.classes_)\n",
    "disp.plot()\n",
    "plt.title(\"KNN Confusion Matrix\")\n",
    "#plt.savefig(\"KNN.jpg\")\n",
    "plt.show()\n",
    "\n",
    "\n",
    "\n",
    "#precision recall F-1 score\n",
    "print(classification_report(ytest, knn_ypred_test))"
   ]
  },
  {
   "cell_type": "code",
   "execution_count": null,
   "metadata": {},
   "outputs": [],
   "source": []
  }
 ],
 "metadata": {
  "kernelspec": {
   "display_name": "base",
   "language": "python",
   "name": "python3"
  },
  "language_info": {
   "codemirror_mode": {
    "name": "ipython",
    "version": 3
   },
   "file_extension": ".py",
   "mimetype": "text/x-python",
   "name": "python",
   "nbconvert_exporter": "python",
   "pygments_lexer": "ipython3",
   "version": "3.11.9"
  }
 },
 "nbformat": 4,
 "nbformat_minor": 2
}

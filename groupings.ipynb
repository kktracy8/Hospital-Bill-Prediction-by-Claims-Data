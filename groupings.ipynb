{
 "cells": [
  {
   "cell_type": "code",
   "execution_count": 2,
   "metadata": {},
   "outputs": [],
   "source": [
    "import pandas as pd\n",
    "import numpy as np\n",
    "import seaborn as sns\n",
    "import matplotlib.pyplot as plt\n",
    "from sklearn.model_selection import train_test_split\n",
    "from sklearn.preprocessing import OneHotEncoder, LabelEncoder\n",
    "from sklearn.ensemble import RandomForestClassifier\n",
    "from sklearn.metrics import classification_report, confusion_matrix\n",
    "from sklearn.linear_model import LogisticRegression\n",
    "from sklearn.decomposition import PCA\n",
    "from itertools import combinations\n",
    "from sklearn.preprocessing import StandardScaler"
   ]
  },
  {
   "cell_type": "markdown",
   "metadata": {},
   "source": [
    "#### Data Analysis"
   ]
  },
  {
   "cell_type": "code",
   "execution_count": 3,
   "metadata": {},
   "outputs": [
    {
     "data": {
      "text/html": [
       "<div>\n",
       "<style scoped>\n",
       "    .dataframe tbody tr th:only-of-type {\n",
       "        vertical-align: middle;\n",
       "    }\n",
       "\n",
       "    .dataframe tbody tr th {\n",
       "        vertical-align: top;\n",
       "    }\n",
       "\n",
       "    .dataframe thead th {\n",
       "        text-align: right;\n",
       "    }\n",
       "</style>\n",
       "<table border=\"1\" class=\"dataframe\">\n",
       "  <thead>\n",
       "    <tr style=\"text-align: right;\">\n",
       "      <th></th>\n",
       "      <th>Name</th>\n",
       "      <th>Age</th>\n",
       "      <th>Gender</th>\n",
       "      <th>Blood Type</th>\n",
       "      <th>Medical Condition</th>\n",
       "      <th>Date of Admission</th>\n",
       "      <th>Doctor</th>\n",
       "      <th>Hospital</th>\n",
       "      <th>Insurance Provider</th>\n",
       "      <th>Billing Amount</th>\n",
       "      <th>Room Number</th>\n",
       "      <th>Admission Type</th>\n",
       "      <th>Discharge Date</th>\n",
       "      <th>Medication</th>\n",
       "      <th>Test Results</th>\n",
       "    </tr>\n",
       "  </thead>\n",
       "  <tbody>\n",
       "    <tr>\n",
       "      <th>0</th>\n",
       "      <td>Bobby JacksOn</td>\n",
       "      <td>30</td>\n",
       "      <td>Male</td>\n",
       "      <td>B-</td>\n",
       "      <td>Cancer</td>\n",
       "      <td>2024-01-31</td>\n",
       "      <td>Matthew Smith</td>\n",
       "      <td>Sons and Miller</td>\n",
       "      <td>Blue Cross</td>\n",
       "      <td>18856.281306</td>\n",
       "      <td>328</td>\n",
       "      <td>Urgent</td>\n",
       "      <td>2024-02-02</td>\n",
       "      <td>Paracetamol</td>\n",
       "      <td>Normal</td>\n",
       "    </tr>\n",
       "    <tr>\n",
       "      <th>1</th>\n",
       "      <td>LesLie TErRy</td>\n",
       "      <td>62</td>\n",
       "      <td>Male</td>\n",
       "      <td>A+</td>\n",
       "      <td>Obesity</td>\n",
       "      <td>2019-08-20</td>\n",
       "      <td>Samantha Davies</td>\n",
       "      <td>Kim Inc</td>\n",
       "      <td>Medicare</td>\n",
       "      <td>33643.327287</td>\n",
       "      <td>265</td>\n",
       "      <td>Emergency</td>\n",
       "      <td>2019-08-26</td>\n",
       "      <td>Ibuprofen</td>\n",
       "      <td>Inconclusive</td>\n",
       "    </tr>\n",
       "    <tr>\n",
       "      <th>2</th>\n",
       "      <td>DaNnY sMitH</td>\n",
       "      <td>76</td>\n",
       "      <td>Female</td>\n",
       "      <td>A-</td>\n",
       "      <td>Obesity</td>\n",
       "      <td>2022-09-22</td>\n",
       "      <td>Tiffany Mitchell</td>\n",
       "      <td>Cook PLC</td>\n",
       "      <td>Aetna</td>\n",
       "      <td>27955.096079</td>\n",
       "      <td>205</td>\n",
       "      <td>Emergency</td>\n",
       "      <td>2022-10-07</td>\n",
       "      <td>Aspirin</td>\n",
       "      <td>Normal</td>\n",
       "    </tr>\n",
       "    <tr>\n",
       "      <th>3</th>\n",
       "      <td>andrEw waTtS</td>\n",
       "      <td>28</td>\n",
       "      <td>Female</td>\n",
       "      <td>O+</td>\n",
       "      <td>Diabetes</td>\n",
       "      <td>2020-11-18</td>\n",
       "      <td>Kevin Wells</td>\n",
       "      <td>Hernandez Rogers and Vang,</td>\n",
       "      <td>Medicare</td>\n",
       "      <td>37909.782410</td>\n",
       "      <td>450</td>\n",
       "      <td>Elective</td>\n",
       "      <td>2020-12-18</td>\n",
       "      <td>Ibuprofen</td>\n",
       "      <td>Abnormal</td>\n",
       "    </tr>\n",
       "    <tr>\n",
       "      <th>4</th>\n",
       "      <td>adrIENNE bEll</td>\n",
       "      <td>43</td>\n",
       "      <td>Female</td>\n",
       "      <td>AB+</td>\n",
       "      <td>Cancer</td>\n",
       "      <td>2022-09-19</td>\n",
       "      <td>Kathleen Hanna</td>\n",
       "      <td>White-White</td>\n",
       "      <td>Aetna</td>\n",
       "      <td>14238.317814</td>\n",
       "      <td>458</td>\n",
       "      <td>Urgent</td>\n",
       "      <td>2022-10-09</td>\n",
       "      <td>Penicillin</td>\n",
       "      <td>Abnormal</td>\n",
       "    </tr>\n",
       "  </tbody>\n",
       "</table>\n",
       "</div>"
      ],
      "text/plain": [
       "            Name  Age  Gender Blood Type Medical Condition Date of Admission  \\\n",
       "0  Bobby JacksOn   30    Male         B-            Cancer        2024-01-31   \n",
       "1   LesLie TErRy   62    Male         A+           Obesity        2019-08-20   \n",
       "2    DaNnY sMitH   76  Female         A-           Obesity        2022-09-22   \n",
       "3   andrEw waTtS   28  Female         O+          Diabetes        2020-11-18   \n",
       "4  adrIENNE bEll   43  Female        AB+            Cancer        2022-09-19   \n",
       "\n",
       "             Doctor                    Hospital Insurance Provider  \\\n",
       "0     Matthew Smith             Sons and Miller         Blue Cross   \n",
       "1   Samantha Davies                     Kim Inc           Medicare   \n",
       "2  Tiffany Mitchell                    Cook PLC              Aetna   \n",
       "3       Kevin Wells  Hernandez Rogers and Vang,           Medicare   \n",
       "4    Kathleen Hanna                 White-White              Aetna   \n",
       "\n",
       "   Billing Amount  Room Number Admission Type Discharge Date   Medication  \\\n",
       "0    18856.281306          328         Urgent     2024-02-02  Paracetamol   \n",
       "1    33643.327287          265      Emergency     2019-08-26    Ibuprofen   \n",
       "2    27955.096079          205      Emergency     2022-10-07      Aspirin   \n",
       "3    37909.782410          450       Elective     2020-12-18    Ibuprofen   \n",
       "4    14238.317814          458         Urgent     2022-10-09   Penicillin   \n",
       "\n",
       "   Test Results  \n",
       "0        Normal  \n",
       "1  Inconclusive  \n",
       "2        Normal  \n",
       "3      Abnormal  \n",
       "4      Abnormal  "
      ]
     },
     "execution_count": 3,
     "metadata": {},
     "output_type": "execute_result"
    }
   ],
   "source": [
    "from datetime import datetime\n",
    "health_df = pd.read_csv('healthcare_dataset.csv')\n",
    "health_df.head()"
   ]
  },
  {
   "cell_type": "code",
   "execution_count": 43,
   "metadata": {},
   "outputs": [
    {
     "name": "stdout",
     "output_type": "stream",
     "text": [
      "Index(['Age', 'Gender', 'Hospital', 'Insurance Provider', 'Billing Amount',\n",
      "       'Room Number', 'Inpatient Days', 'Per Day Amount', 'Blood Type_A+',\n",
      "       'Blood Type_A-', 'Blood Type_AB+', 'Blood Type_AB-', 'Blood Type_B+',\n",
      "       'Blood Type_B-', 'Blood Type_O+', 'Blood Type_O-',\n",
      "       'Medical Condition_Arthritis', 'Medical Condition_Asthma',\n",
      "       'Medical Condition_Cancer', 'Medical Condition_Diabetes',\n",
      "       'Medical Condition_Hypertension', 'Medical Condition_Obesity',\n",
      "       'Admission Type_Elective', 'Admission Type_Emergency',\n",
      "       'Admission Type_Urgent', 'Medication_Aspirin', 'Medication_Ibuprofen',\n",
      "       'Medication_Lipitor', 'Medication_Paracetamol', 'Medication_Penicillin',\n",
      "       'Test Results_Abnormal', 'Test Results_Inconclusive',\n",
      "       'Test Results_Normal'],\n",
      "      dtype='object')\n"
     ]
    }
   ],
   "source": [
    "from sklearn.ensemble import RandomForestClassifier\n",
    "from sklearn.preprocessing import LabelEncoder\n",
    "from sklearn.model_selection import train_test_split\n",
    "from sklearn.metrics import accuracy_score\n",
    "from sklearn.preprocessing import OneHotEncoder\n",
    "from scipy.stats import chi2_contingency\n",
    "from itertools import product\n",
    "import scipy.stats as ss\n",
    "\n",
    "# Dropping unnecessary columns for prediction (e.g., Name, Doctor, Date of Admission, etc.)\n",
    "health_df.drop_duplicates()\n",
    "health_df['Discharge Date'] = pd.to_datetime(health_df['Discharge Date'])\n",
    "health_df['Date of Admission'] = pd.to_datetime(health_df['Date of Admission'])\n",
    "health_df['Inpatient Days']= (health_df['Discharge Date'] - health_df['Date of Admission']).dt.days\n",
    "health_df[\"Per Day Amount\"] = health_df[\"Billing Amount\"]/health_df[\"Inpatient Days\"]\n",
    "features = health_df.drop(columns=['Name', 'Doctor', 'Date of Admission', 'Discharge Date'])\n",
    "\n",
    "label_encoded_columns = ['Hospital', 'Gender', 'Insurance Provider']\n",
    "label_encoder = LabelEncoder()\n",
    "\n",
    "for col in label_encoded_columns:\n",
    "    features[col] = label_encoder.fit_transform(features[col])\n",
    "\n",
    "\n",
    "ohe_columns = ['Blood Type', 'Medical Condition', 'Admission Type', 'Medication', 'Test Results']\n",
    "ohe = OneHotEncoder()\n",
    "\n",
    "array_hot_encoded = ohe.fit_transform(features[ohe_columns])\n",
    "encoded_df = pd.DataFrame(array_hot_encoded.toarray(), columns=ohe.get_feature_names_out(['Blood Type', 'Medical Condition', 'Admission Type', 'Medication', 'Test Results']))\n",
    "df = features.join(encoded_df)\n",
    "\n",
    "# Drop the original columns\n",
    "df.drop(['Blood Type', 'Medical Condition', 'Admission Type', 'Medication', 'Test Results'], axis=1, inplace=True)\n",
    "df = df[df['Billing Amount'] > 0]\n",
    "df = df[df['Inpatient Days'] >= 0]\n",
    "scaler = StandardScaler()\n",
    "#df['Age'] = scaler.fit_transform(df[['Age']])\n",
    "#df['Inpatient Days'] = scaler.fit_transform(df[['Inpatient Days']])\n",
    "\n",
    "print(df.columns)"
   ]
  },
  {
   "cell_type": "code",
   "execution_count": 46,
   "metadata": {},
   "outputs": [
    {
     "name": "stdout",
     "output_type": "stream",
     "text": [
      "1\n",
      "[[9.42814065e+03 0.00000000e+00 0.00000000e+00 1.00000000e+00\n",
      "  0.00000000e+00]\n",
      " [5.60722121e+03 0.00000000e+00 0.00000000e+00 0.00000000e+00\n",
      "  1.00000000e+00]\n",
      " [1.86367307e+03 0.00000000e+00 0.00000000e+00 0.00000000e+00\n",
      "  1.00000000e+00]\n",
      " ...\n",
      " [9.86455883e+02 0.00000000e+00 0.00000000e+00 0.00000000e+00\n",
      "  0.00000000e+00]\n",
      " [5.40851539e+03 0.00000000e+00 1.00000000e+00 0.00000000e+00\n",
      "  0.00000000e+00]\n",
      " [1.48523488e+02 1.00000000e+00 0.00000000e+00 0.00000000e+00\n",
      "  0.00000000e+00]]\n"
     ]
    }
   ],
   "source": [
    "#df = df[df['Billing Amount'] > 0]\n",
    "#df = df[df['Inpatient Days'] > 0]\n",
    "print(min(df['Inpatient Days']))\n",
    "from sklearn.feature_selection import SelectKBest, f_regression\n",
    "X = df.drop('Billing Amount', axis=1)\n",
    "y = df['Billing Amount']\n",
    "selector = SelectKBest(f_regression, k=5)\n",
    "X_new = selector.fit_transform(X, y)\n",
    "print(X_new)"
   ]
  },
  {
   "cell_type": "code",
   "execution_count": null,
   "metadata": {},
   "outputs": [],
   "source": [
    "from sklearn.neighbors import KNeighborsRegressor\n",
    "model = KNeighborsRegressor(n_neighbors=3)\n",
    "model.fit(X, y)\n",
    "print()"
   ]
  },
  {
   "cell_type": "code",
   "execution_count": 4,
   "metadata": {},
   "outputs": [
    {
     "name": "stdout",
     "output_type": "stream",
     "text": [
      "                                Billing Amount\n",
      "Age                                   0.010071\n",
      "Hospital                              0.101619\n",
      "Medical Condition_Arthritis           0.019433\n",
      "Medical Condition_Asthma              0.020265\n",
      "Medical Condition_Cancer              0.019169\n",
      "Medical Condition_Diabetes            0.016990\n",
      "Medical Condition_Hypertension        0.020043\n",
      "Medical Condition_Obesity             0.019355\n",
      "Room Number                           0.096651\n",
      "Inpatient Days                        0.092819\n",
      "Per Day Amount                        2.782328\n",
      "Gender_Female                         0.033836\n",
      "Gender_Male                           0.033833\n",
      "Blood Type_A+                         0.014424\n",
      "Blood Type_A-                         0.015963\n",
      "Blood Type_AB+                        0.015481\n",
      "Blood Type_AB-                        0.019596\n",
      "Blood Type_B+                         0.018025\n",
      "Blood Type_B-                         0.016790\n",
      "Blood Type_O+                         0.016643\n",
      "Blood Type_O-                         0.015622\n",
      "Admission Type_Elective               0.027933\n",
      "Admission Type_Emergency              0.029694\n",
      "Admission Type_Urgent                 0.030986\n",
      "Medication_Aspirin                    0.017684\n",
      "Medication_Ibuprofen                  0.026810\n",
      "Medication_Lipitor                    0.023112\n",
      "Medication_Paracetamol                0.020308\n",
      "Medication_Penicillin                 0.025665\n",
      "Test Results_Abnormal                 0.028954\n",
      "Test Results_Inconclusive             0.029732\n",
      "Test Results_Normal                   0.029913\n"
     ]
    }
   ],
   "source": [
    "from sklearn.feature_selection import mutual_info_regression\n",
    "indep = ['Age', 'Hospital', 'Medical Condition_Arthritis', 'Medical Condition_Asthma',\n",
    "       'Medical Condition_Cancer', 'Medical Condition_Diabetes',\n",
    "       'Medical Condition_Hypertension', 'Medical Condition_Obesity', 'Room Number',\n",
    "       'Inpatient Days', 'Per Day Amount', 'Gender_Female', 'Gender_Male',\n",
    "       'Blood Type_A+', 'Blood Type_A-', 'Blood Type_AB+', 'Blood Type_AB-',\n",
    "       'Blood Type_B+', 'Blood Type_B-', 'Blood Type_O+', 'Blood Type_O-',\n",
    "       'Admission Type_Elective', 'Admission Type_Emergency',\n",
    "       'Admission Type_Urgent', 'Medication_Aspirin', 'Medication_Ibuprofen',\n",
    "       'Medication_Lipitor', 'Medication_Paracetamol', 'Medication_Penicillin',\n",
    "       'Test Results_Abnormal', 'Test Results_Inconclusive',\n",
    "       'Test Results_Normal']\n",
    "\n",
    "mutual_info_matrix = np.zeros((len(indep)))\n",
    "\n",
    "# Calculate mutual information for each independent-dependent variable pair\n",
    "for i, var1 in enumerate(indep):\n",
    "    X = df[[var1]]\n",
    "    y = df['Billing Amount']\n",
    "    mutual_info = mutual_info_regression(X, y)\n",
    "    mutual_info_matrix[i] = mutual_info[0]  # Store the mutual info scalar\n",
    "\n",
    "# Convert the matrix to a DataFrame for easier viewing\n",
    "mutual_info_df = pd.DataFrame(mutual_info_matrix, index=indep, columns=['Billing Amount'])\n",
    "\n",
    "# Display the mutual information DataFrame\n",
    "print(mutual_info_df)"
   ]
  },
  {
   "cell_type": "code",
   "execution_count": 5,
   "metadata": {},
   "outputs": [
    {
     "name": "stdout",
     "output_type": "stream",
     "text": [
      "Billing Amount  Per Day Amount                    2.782328\n",
      "                Hospital                          0.101619\n",
      "                Room Number                       0.096651\n",
      "                Inpatient Days                    0.092819\n",
      "                Gender_Female                     0.033836\n",
      "                Gender_Male                       0.033833\n",
      "                Admission Type_Urgent             0.030986\n",
      "                Test Results_Normal               0.029913\n",
      "                Test Results_Inconclusive         0.029732\n",
      "                Admission Type_Emergency          0.029694\n",
      "                Test Results_Abnormal             0.028954\n",
      "                Admission Type_Elective           0.027933\n",
      "                Medication_Ibuprofen              0.026810\n",
      "                Medication_Penicillin             0.025665\n",
      "                Medication_Lipitor                0.023112\n",
      "                Medication_Paracetamol            0.020308\n",
      "                Medical Condition_Asthma          0.020265\n",
      "                Medical Condition_Hypertension    0.020043\n",
      "                Blood Type_AB-                    0.019596\n",
      "                Medical Condition_Arthritis       0.019433\n",
      "                Medical Condition_Obesity         0.019355\n",
      "                Medical Condition_Cancer          0.019169\n",
      "                Blood Type_B+                     0.018025\n",
      "                Medication_Aspirin                0.017684\n",
      "                Medical Condition_Diabetes        0.016990\n",
      "                Blood Type_B-                     0.016790\n",
      "                Blood Type_O+                     0.016643\n",
      "                Blood Type_A-                     0.015963\n",
      "                Blood Type_O-                     0.015622\n",
      "                Blood Type_AB+                    0.015481\n",
      "                Blood Type_A+                     0.014424\n",
      "                Age                               0.010071\n",
      "dtype: float64\n"
     ]
    }
   ],
   "source": [
    "top_pairs = mutual_info_df.unstack().sort_values(ascending=False).head(32)\n",
    "print(top_pairs)"
   ]
  },
  {
   "cell_type": "code",
   "execution_count": 47,
   "metadata": {},
   "outputs": [],
   "source": [
    "y = df['Billing Amount']\n",
    "a =df.drop(columns = ['Billing Amount'])\n",
    "#a = a.drop(columns = ['Per Day Amount'])"
   ]
  },
  {
   "cell_type": "code",
   "execution_count": 7,
   "metadata": {},
   "outputs": [
    {
     "name": "stdout",
     "output_type": "stream",
     "text": [
      "Index(['Gender_Female', 'Gender_Male', 'Blood Type_O-',\n",
      "       'Medical Condition_Arthritis', 'Medical Condition_Asthma',\n",
      "       'Medical Condition_Cancer', 'Medical Condition_Diabetes',\n",
      "       'Medical Condition_Hypertension', 'Medical Condition_Obesity',\n",
      "       'Admission Type_Elective', 'Admission Type_Emergency',\n",
      "       'Admission Type_Urgent', 'Medication_Aspirin', 'Medication_Ibuprofen',\n",
      "       'Medication_Lipitor', 'Medication_Paracetamol', 'Medication_Penicillin',\n",
      "       'Test Results_Abnormal', 'Test Results_Inconclusive',\n",
      "       'Test Results_Normal'],\n",
      "      dtype='object')\n"
     ]
    }
   ],
   "source": [
    "from sklearn.feature_selection import RFE\n",
    "from sklearn.linear_model import LinearRegression\n",
    "\n",
    "# Create a linear regression model\n",
    "model = LinearRegression()\n",
    "\n",
    "rfe = RFE(model, n_features_to_select=20)\n",
    "rfe.fit_transform(a, y)\n",
    "print(a.columns[rfe.get_support()])"
   ]
  },
  {
   "cell_type": "code",
   "execution_count": 8,
   "metadata": {},
   "outputs": [
    {
     "name": "stdout",
     "output_type": "stream",
     "text": [
      "0.2957819218355291\n",
      "0.5292497851429239\n"
     ]
    }
   ],
   "source": [
    "from sklearn.metrics import r2_score, root_mean_squared_error\n",
    "X_train, X_test, y_train, y_test = train_test_split(a, y, test_size=0.2)\n",
    "model.fit(X_train, y_train)\n",
    "ypred = model.predict(X_test)\n",
    "print(r2_score(y_test, ypred))\n",
    "print(1 - (root_mean_squared_error(y_test, ypred) / y_test.mean()))\n",
    "\n"
   ]
  },
  {
   "cell_type": "code",
   "execution_count": 9,
   "metadata": {},
   "outputs": [],
   "source": [
    "b = a[['Gender_Female', 'Gender_Male', 'Blood Type_O+',\n",
    "       'Medical Condition_Arthritis', 'Medical Condition_Asthma',\n",
    "       'Medical Condition_Cancer', 'Medical Condition_Diabetes',\n",
    "       'Medical Condition_Hypertension', 'Medical Condition_Obesity',\n",
    "       'Admission Type_Elective', 'Admission Type_Emergency',\n",
    "       'Admission Type_Urgent', 'Medication_Aspirin', 'Medication_Ibuprofen',\n",
    "       'Medication_Lipitor', 'Medication_Paracetamol', 'Medication_Penicillin',\n",
    "       'Test Results_Abnormal', 'Test Results_Inconclusive',\n",
    "       'Test Results_Normal']]"
   ]
  },
  {
   "cell_type": "code",
   "execution_count": 10,
   "metadata": {},
   "outputs": [
    {
     "name": "stdout",
     "output_type": "stream",
     "text": [
      "-0.000869444225867877\n",
      "0.44630176585730674\n"
     ]
    }
   ],
   "source": [
    "X_train, X_test, y_train, y_test = train_test_split(b, y, test_size=0.2)\n",
    "model.fit(X_train, y_train)\n",
    "ypred = model.predict(X_test)\n",
    "print(r2_score(y_test, ypred))\n",
    "print(1 - (root_mean_squared_error(y_test, ypred) / y_test.mean()))"
   ]
  },
  {
   "cell_type": "code",
   "execution_count": 11,
   "metadata": {},
   "outputs": [
    {
     "name": "stdout",
     "output_type": "stream",
     "text": [
      "                           Feature    Importance\n",
      "3                   Inpatient Days  5.702222e+03\n",
      "11                   Blood Type_B+  2.238512e+02\n",
      "20       Medical Condition_Obesity  2.036238e+02\n",
      "17        Medical Condition_Cancer  1.779304e+02\n",
      "18      Medical Condition_Diabetes  1.535252e+02\n",
      "28           Medication_Penicillin  1.453163e+02\n",
      "10                  Blood Type_AB-  1.392938e+02\n",
      "13                   Blood Type_O+  1.371820e+02\n",
      "14                   Blood Type_O-  1.357686e+02\n",
      "26              Medication_Lipitor  1.139301e+02\n",
      "9                   Blood Type_AB+  1.094888e+02\n",
      "23           Admission Type_Urgent  7.466389e+01\n",
      "31             Test Results_Normal  6.519040e+01\n",
      "25            Medication_Ibuprofen  5.982356e+01\n",
      "7                    Blood Type_A+  5.332922e+01\n",
      "5                    Gender_Female  5.199033e+01\n",
      "30       Test Results_Inconclusive  4.094645e+01\n",
      "15     Medical Condition_Arthritis  3.951052e+01\n",
      "21         Admission Type_Elective  3.074025e+01\n",
      "24              Medication_Aspirin  2.406466e+01\n",
      "8                    Blood Type_A-  1.415084e+01\n",
      "19  Medical Condition_Hypertension  1.379883e+01\n",
      "0                              Age  9.966822e+00\n",
      "4                   Per Day Amount  2.949818e+00\n",
      "2                      Room Number  4.881551e-01\n",
      "1                         Hospital  6.173814e-03\n",
      "12                   Blood Type_B-  3.030889e-04\n",
      "6                      Gender_Male  2.908180e-13\n",
      "22        Admission Type_Emergency  0.000000e+00\n",
      "27          Medication_Paracetamol  0.000000e+00\n",
      "29           Test Results_Abnormal  0.000000e+00\n",
      "16        Medical Condition_Asthma  0.000000e+00\n"
     ]
    }
   ],
   "source": [
    "from sklearn.linear_model import Lasso\n",
    "\n",
    "# Create a Lasso regression model\n",
    "model = Lasso(alpha=0.1)\n",
    "model.fit(a, y)\n",
    "\n",
    "# Get feature importance scores\n",
    "importance = np.abs(model.coef_)\n",
    "importance_df = pd.DataFrame({'Feature': a.columns, 'Importance': importance})\n",
    "\n",
    "# Sort the DataFrame by importance scores\n",
    "importance_df = importance_df.sort_values(by='Importance', ascending=False)\n",
    "print(importance_df)"
   ]
  },
  {
   "cell_type": "code",
   "execution_count": 12,
   "metadata": {},
   "outputs": [
    {
     "name": "stdout",
     "output_type": "stream",
     "text": [
      "0.3019429284899875\n",
      "0.5329550538888199\n"
     ]
    }
   ],
   "source": [
    "X_train, X_test, y_train, y_test = train_test_split(a, y, test_size=0.2)\n",
    "model.fit(X_train, y_train)\n",
    "ypred = model.predict(X_test)\n",
    "print(r2_score(y_test, ypred))\n",
    "print(1 - (root_mean_squared_error(y_test, ypred) / y_test.mean()))\n"
   ]
  },
  {
   "cell_type": "code",
   "execution_count": 54,
   "metadata": {},
   "outputs": [],
   "source": [
    "b = a[['Medical Condition_Arthritis', 'Blood Type_O+', 'Hospital',\n",
    "       'Age', 'Blood Type_B+',\n",
    "       'Medical Condition_Diabetes', 'Inpatient Days']]"
   ]
  },
  {
   "cell_type": "code",
   "execution_count": null,
   "metadata": {},
   "outputs": [
    {
     "name": "stdout",
     "output_type": "stream",
     "text": [
      "0.00013468090775425878\n",
      "0.44947060131507555\n"
     ]
    }
   ],
   "source": [
    "X_train, X_test, y_train, y_test = train_test_split(b, y, test_size=0.2)\n",
    "model.fit(X_train, y_train)\n",
    "ypred = model.predict(X_test)\n",
    "print(r2_score(y_test, ypred))\n",
    "print(1 - (root_mean_squared_error(y_test, ypred) / y_test.mean()))\n",
    "Feature Medical Condition_Arthritis with importance: 1730.5128\n",
    "Feature Blood Type_O+ with importance: 1714.5136\n",
    "Feature Hospital with importance: 1683.9190\n",
    "Feature Age with importance: 1682.5838\n",
    "Feature Blood Type_B+ with importance: 1647.4970\n",
    "Feature Medical Condition_Diabetes with importance: 1636.3089\n",
    "Feature Inpatient Days with importance: 1620.2044\n",
    "Feature Blood Type_O- with importance: 1578.7868\n",
    "Feature Blood Type_AB- with importance: 1560.9029\n",
    "Feature Blood Type_A- with importance: 1513.1654\n",
    "Feature Medical Condition_Cancer with importance: 1510.8546\n",
    "Feature Gender with importance: 1508.0452\n",
    "Feature Per Day Amount with importance: 1487.7135\n",
    "Feature Blood Type_B- with importance: 1487.0563\n",
    "Feature Room Number with importance: 1476.8901"
   ]
  },
  {
   "cell_type": "code",
   "execution_count": 55,
   "metadata": {},
   "outputs": [
    {
     "name": "stdout",
     "output_type": "stream",
     "text": [
      "Feature Age with importance: 2278.2685\n",
      "Feature Inpatient Days with importance: 2084.3400\n",
      "Feature Room Number with importance: 2030.3486\n",
      "Feature Gender with importance: 1930.2020\n",
      "Feature Insurance Provider with importance: 1174.2023\n",
      "Feature Per Day Amount with importance: 1132.7449\n",
      "Feature Hospital with importance: 1027.8828\n",
      "0.4423929430803608\n"
     ]
    }
   ],
   "source": [
    "from sklearn.neural_network import MLPRegressor\n",
    "from sklearn.model_selection import train_test_split\n",
    "\n",
    "X_train, X_test, y_train, y_test = train_test_split(b, df['Billing Amount'], test_size=0.2, random_state=42)\n",
    "X_train = scaler.fit_transform(X_train)\n",
    "X_test = scaler.fit_transform(X_test)\n",
    "\n",
    "#activation{‘identity’, ‘logistic’, ‘tanh’, ‘relu’}\n",
    "#solver{‘lbfgs’, ‘sgd’, ‘adam’}\n",
    "clf = MLPRegressor(hidden_layer_sizes=(400,), max_iter=1000, alpha = 0.005, learning_rate_init= 0.002, activation='relu', solver='adam', random_state=2)\n",
    "clf.fit(X_train, y_train)\n",
    "\n",
    "feature_importance = np.abs(clf.coefs_[0]).sum(axis=1)\n",
    "sorted_indices = np.argsort(feature_importance)[::-1]\n",
    "for idx in sorted_indices[:15]:\n",
    "    print(f\"Feature {a.columns[idx]} with importance: {feature_importance[idx]:.4f}\")\n",
    "ypred = clf.predict(X_test)\n",
    "print(1 - (root_mean_squared_error(y_test, ypred) / y_test.mean()))"
   ]
  },
  {
   "cell_type": "code",
   "execution_count": 53,
   "metadata": {},
   "outputs": [
    {
     "name": "stdout",
     "output_type": "stream",
     "text": [
      "0.9982774203302753\n",
      "0.9768738005146085\n"
     ]
    },
    {
     "name": "stderr",
     "output_type": "stream",
     "text": [
      "C:\\Users\\kykyk\\AppData\\Local\\Packages\\PythonSoftwareFoundation.Python.3.11_qbz5n2kfra8p0\\LocalCache\\local-packages\\Python311\\site-packages\\sklearn\\neural_network\\_multilayer_perceptron.py:691: ConvergenceWarning: Stochastic Optimizer: Maximum iterations (1000) reached and the optimization hasn't converged yet.\n",
      "  warnings.warn(\n"
     ]
    }
   ],
   "source": [
    "b = a[['Per Day Amount', 'Inpatient Days', 'Test Results_Abnormal']]\n",
    "\n",
    "X_train, X_test, y_train, y_test = train_test_split(b, df['Billing Amount'], test_size=0.2, random_state=42)\n",
    "\n",
    "X_train = scaler.fit_transform(X_train)\n",
    "X_test = scaler.fit_transform(X_test)\n",
    "\n",
    "#activation{‘identity’, ‘logistic’, ‘tanh’, ‘relu’}\n",
    "#solver{‘lbfgs’, ‘sgd’, ‘adam’}\n",
    "\n",
    "clf = MLPRegressor(hidden_layer_sizes=(400,), max_iter=1000, alpha = 0.005, learning_rate_init= 0.002, activation='relu', solver='adam', random_state=2)\n",
    "clf.fit(X_train, y_train)\n",
    "\n",
    "ypred = clf.predict(X_test)\n",
    "print(r2_score(y_test, ypred))\n",
    "print(1 - (root_mean_squared_error(y_test, ypred) / y_test.mean()))"
   ]
  },
  {
   "cell_type": "code",
   "execution_count": 49,
   "metadata": {},
   "outputs": [
    {
     "name": "stdout",
     "output_type": "stream",
     "text": [
      "Cluster edges (min, max) for each cluster:\n",
      "Cluster 0: Min = 10363.66893067308, Max = 19878.29987681973\n",
      "Cluster 4: Min = 29703.870474486597, Max = 39836.3848779898\n",
      "Cluster 2: Min = 19879.862382196294, Max = 29699.31359663662\n",
      "Cluster 1: Min = 39837.74085278687, Max = 52764.276736469175\n",
      "Cluster 3: Min = 9.238787497393332, Max = 10362.621045769216\n",
      "0        20\n",
      "1        40\n",
      "2        30\n",
      "3        40\n",
      "4        20\n",
      "         ..\n",
      "55495    10\n",
      "55496    40\n",
      "55497    30\n",
      "55498    40\n",
      "55499    10\n",
      "Name: cat bill, Length: 55392, dtype: category\n",
      "Categories (5, int64): [10 < 20 < 30 < 40 < 50]\n"
     ]
    }
   ],
   "source": [
    "df['Billing Amount']\n",
    "\n",
    "bins = [0, 10000, 20000, 30000, 40000, float('inf')]\n",
    "labels = [10, 20, 30, 40, 50]\n",
    "\n",
    "df['cat bill'] = pd.cut(df['Billing Amount'], bins=bins, labels=labels, right=True)\n",
    "\n",
    "from sklearn.cluster import KMeans\n",
    "\n",
    "kmeans = KMeans(n_clusters=5, random_state=42)\n",
    "df['l'] = kmeans.fit_predict(df[['Billing Amount']])\n",
    "\n",
    "centroids = kmeans.cluster_centers_\n",
    "\n",
    "# Find the min and max values within each cluster\n",
    "cluster_edges = {}\n",
    "for cluster_label in df['l'].unique():\n",
    "    # Filter the data for the current cluster\n",
    "    cluster_data = df[df['l'] == cluster_label]['Billing Amount']\n",
    "    \n",
    "    # Find the min and max values for each cluster (edges)\n",
    "    min_val = cluster_data.min()\n",
    "    max_val = cluster_data.max()\n",
    "    \n",
    "    cluster_edges[cluster_label] = (min_val, max_val)\n",
    "\n",
    "# Print the cluster edges\n",
    "print(\"Cluster edges (min, max) for each cluster:\")\n",
    "for cluster_label, (min_val, max_val) in cluster_edges.items():\n",
    "    print(f\"Cluster {cluster_label}: Min = {min_val}, Max = {max_val}\")\n",
    "print(df['cat bill'])"
   ]
  },
  {
   "cell_type": "code",
   "execution_count": 30,
   "metadata": {},
   "outputs": [
    {
     "name": "stdout",
     "output_type": "stream",
     "text": [
      "Feature Room Number with importance: 22.1384\n",
      "Feature Per Day Amount with importance: 20.7829\n",
      "Feature Inpatient Days with importance: 17.3488\n",
      "Feature Hospital with importance: 11.8769\n",
      "Feature Insurance Provider with importance: 4.5040\n",
      "Feature Admission Type_Emergency with importance: 1.3025\n",
      "Feature Test Results_Normal with importance: 1.2586\n",
      "Feature Gender with importance: 1.2385\n",
      "Feature Test Results_Inconclusive with importance: 1.1880\n",
      "Feature Test Results_Abnormal with importance: 1.1781\n",
      "Feature Admission Type_Urgent with importance: 1.1730\n",
      "Feature Admission Type_Elective with importance: 1.0709\n",
      "Feature Medication_Penicillin with importance: 0.8545\n",
      "Feature Medication_Paracetamol with importance: 0.7411\n",
      "Feature Medical Condition_Diabetes with importance: 0.6937\n",
      "0.37783193429009837\n"
     ]
    }
   ],
   "source": [
    "from sklearn.neural_network import MLPClassifier\n",
    "from sklearn.model_selection import train_test_split\n",
    "b = a[['Inpatient Days', 'Per Day Amount', 'Room Number']]\n",
    "X_train, X_test, y_train, y_test = train_test_split(a, df['cat bill'], test_size=0.2, random_state=42)\n",
    "\n",
    "#print(X_train)\n",
    "#X_train = scaler.fit_transform(X_train)\n",
    "#X_test = scaler.fit_transform(X_test)\n",
    "\n",
    "#activation{‘identity’, ‘logistic’, ‘tanh’, ‘relu’}\n",
    "#solver{‘lbfgs’, ‘sgd’, ‘adam’}\n",
    "\n",
    "clf = MLPClassifier(hidden_layer_sizes=(400,), max_iter=1000, alpha = 0.1, learning_rate_init= 0.005, activation='relu', solver='adam', random_state=2)\n",
    "clf.fit(X_train, y_train)\n",
    "\n",
    "feature_importance = np.abs(clf.coefs_[0]).sum(axis=1)\n",
    "sorted_indices = np.argsort(feature_importance)[::-1]\n",
    "for idx in sorted_indices[:15]:\n",
    "    print(f\"Feature {a.columns[idx]} with importance: {feature_importance[idx]:.4f}\")\n",
    "ypred = clf.predict(X_test)\n",
    "print(accuracy_score(y_test, ypred))\n",
    "#print(1 - (root_mean_squared_error(y_test, ypred) / y_test.mean()))"
   ]
  },
  {
   "cell_type": "code",
   "execution_count": 55,
   "metadata": {},
   "outputs": [
    {
     "name": "stdout",
     "output_type": "stream",
     "text": [
      "0.9805939164184493\n"
     ]
    }
   ],
   "source": [
    "from sklearn.neural_network import MLPClassifier\n",
    "from sklearn.model_selection import train_test_split\n",
    "b = a[['Inpatient Days', 'Per Day Amount', 'Test Results_Abnormal', 'Hospital']]\n",
    "X_train, X_test, y_train, y_test = train_test_split(b, df['cat bill'], test_size=0.2, random_state=42)\n",
    "\n",
    "#print(X_train)\n",
    "X_train = scaler.fit_transform(X_train)\n",
    "X_test = scaler.fit_transform(X_test)\n",
    "\n",
    "#activation{‘identity’, ‘logistic’, ‘tanh’, ‘relu’}\n",
    "#solver{‘lbfgs’, ‘sgd’, ‘adam’}\n",
    "\n",
    "clf = MLPClassifier(hidden_layer_sizes=(400,), max_iter=1000, alpha = 0.005, learning_rate_init= 0.002, activation='relu', solver='adam', random_state=12)\n",
    "clf.fit(X_train, y_train)\n",
    "\n",
    "ypred = clf.predict(X_test)\n",
    "print(accuracy_score(y_test, ypred))"
   ]
  },
  {
   "cell_type": "code",
   "execution_count": 34,
   "metadata": {},
   "outputs": [
    {
     "name": "stdout",
     "output_type": "stream",
     "text": [
      "Feature importances:\n",
      "Per Day Amount: 0.8418\n",
      "Inpatient Days: 0.2847\n",
      "Test Results_Abnormal: 0.0162\n",
      "Admission Type_Urgent: 0.0157\n",
      "Admission Type_Elective: 0.0153\n",
      "Admission Type_Emergency: 0.0149\n",
      "Test Results_Inconclusive: 0.0149\n",
      "Test Results_Normal: 0.0145\n",
      "Medication_Aspirin: 0.0099\n",
      "Medication_Paracetamol: 0.0093\n",
      "Medication_Penicillin: 0.0084\n",
      "Medication_Ibuprofen: 0.0081\n",
      "Medication_Lipitor: 0.0078\n",
      "Medical Condition_Diabetes: 0.0077\n",
      "Medical Condition_Obesity: 0.0073\n",
      "Medical Condition_Hypertension: 0.0067\n",
      "Medical Condition_Asthma: 0.0066\n",
      "Medical Condition_Cancer: 0.0063\n",
      "Blood Type_B-: 0.0058\n",
      "Medical Condition_Arthritis: 0.0056\n",
      "Blood Type_A+: 0.0054\n",
      "Blood Type_AB-: 0.0047\n",
      "Blood Type_A-: 0.0046\n",
      "Blood Type_O-: 0.0043\n",
      "Blood Type_B+: 0.0040\n",
      "Blood Type_O+: 0.0039\n",
      "Blood Type_AB+: 0.0032\n",
      "Gender: 0.0008\n",
      "Hospital: 0.0000\n",
      "Age: -0.0000\n",
      "Insurance Provider: -0.0002\n",
      "Room Number: -0.0002\n"
     ]
    }
   ],
   "source": [
    "from sklearn.inspection import permutation_importance\n",
    "\n",
    "# Assuming clf is your trained MLPRegressor and X_test, y_test are your test data\n",
    "result = permutation_importance(clf, X_test, y_test, n_repeats=10, random_state=42)\n",
    "\n",
    "# Get mean importance scores for each feature\n",
    "importance_scores = result.importances_mean\n",
    "\n",
    "# Pair feature names with their importance scores\n",
    "feature_importances = list(zip(X_test.columns, importance_scores))\n",
    "\n",
    "# Sort features by importance\n",
    "feature_importances.sort(key=lambda x: x[1], reverse=True)\n",
    "\n",
    "# Display the most important features\n",
    "print(\"Feature importances:\")\n",
    "for feature, importance in feature_importances:\n",
    "    print(f\"{feature}: {importance:.4f}\")"
   ]
  }
 ],
 "metadata": {
  "kernelspec": {
   "display_name": "Python 3",
   "language": "python",
   "name": "python3"
  },
  "language_info": {
   "codemirror_mode": {
    "name": "ipython",
    "version": 3
   },
   "file_extension": ".py",
   "mimetype": "text/x-python",
   "name": "python",
   "nbconvert_exporter": "python",
   "pygments_lexer": "ipython3",
   "version": "3.11.9"
  }
 },
 "nbformat": 4,
 "nbformat_minor": 2
}
